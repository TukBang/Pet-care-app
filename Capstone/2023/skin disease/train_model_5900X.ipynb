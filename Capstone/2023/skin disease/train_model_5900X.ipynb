{
 "cells": [
  {
   "cell_type": "code",
   "execution_count": 1,
   "metadata": {},
   "outputs": [
    {
     "name": "stdout",
     "output_type": "stream",
     "text": [
      "DATA TYPE: train\n",
      "\n",
      "original data folder\n",
      "['A1', 'A2', 'A3', 'A4', 'A5', 'A6']\n",
      "\n",
      "RoI data folder\n",
      "['A1', 'A2', 'A3', 'A4', 'A5', 'A6']\n",
      "\n",
      "box data folder\n",
      "['A1', 'A2', 'A3', 'A4', 'A5', 'A6']\n",
      "\n",
      "crop data folder\n",
      "['A1', 'A2', 'A3', 'A4', 'A5', 'A6']\n",
      "\n",
      "ratio_zero-padding data folder\n",
      "['A1', 'A2', 'A3', 'A4', 'A5', 'A6']\n",
      "\n",
      "RZ_LANCZOS4 data folder\n",
      "['A1', 'A2', 'A3', 'A4', 'A5', 'A6']\n",
      "\n"
     ]
    }
   ],
   "source": [
    "# default\n",
    "from pprint import pprint\n",
    "import natsort\n",
    "import os\n",
    "import pickle as pkl\n",
    "\n",
    "# data structure\n",
    "import numpy as np\n",
    "from PIL import Image\n",
    "\n",
    "# visualize\n",
    "import pandas as pd\n",
    "import matplotlib.pyplot as plt\n",
    "import seaborn as sns\n",
    "\n",
    "# Deep Learning\n",
    "import torch\n",
    "import torch.optim as optim\n",
    "from torch import nn\n",
    "from torch.utils.data import Dataset, DataLoader\n",
    "from torchinfo import summary\n",
    "\n",
    "from torchvision import transforms\n",
    "from torchvision import models\n",
    "from torchvision.models import resnet50\n",
    "from torchvision.models import efficientnet_v2_s, efficientnet_v2_m, efficientnet_v2_l\n",
    "\n",
    "from sklearn.model_selection import train_test_split\n",
    "from sklearn.metrics import accuracy_score, classification_report\n",
    "\n",
    "import module.skin_disease_model as sdm\n",
    "from module.data_processing import mkadir\n",
    "\n",
    "TRAIN = 0\n",
    "VALID = 1\n",
    "data_type = [\"train\", \"valid\"]\n",
    "dt = data_type[TRAIN]\n",
    "\n",
    "project_path = \"E:/Tukorea/Capstone/\"\n",
    "original_data_path = os.path.join(project_path, \"dataset/\", \"original/\", dt)\n",
    "RoI_data_path = os.path.join(project_path, \"dataset/\", \"RoI/\", dt)\n",
    "box_data_path = os.path.join(project_path, \"dataset/\", \"box/256x256/\", dt)\n",
    "crop_data_path = os.path.join(project_path, \"dataset/\", \"crop/\", dt)\n",
    "RZ_data_path = os.path.join(project_path, \"dataset/\", \"ratio_zero-padding/\", dt)\n",
    "RZ_LANCZOS4_data_path = os.path.join(project_path, \"dataset/\", \"RZ_LANCZOS4/\", dt)\n",
    "\n",
    "data_path_namelist = [\"original\", \"RoI\", \"box\", \"crop\", \"ratio_zero-padding\", \"RZ_LANCZOS4\"]\n",
    "data_path_list = [original_data_path, RoI_data_path, box_data_path, crop_data_path, RZ_data_path, RZ_LANCZOS4_data_path]\n",
    "\n",
    "print(\"DATA TYPE:\", dt, end=\"\\n\\n\")\n",
    "for i, data_path in enumerate(data_path_list):\n",
    "    print(data_path_namelist[i] + \" data folder\")\n",
    "    folder = natsort.natsorted(os.listdir(data_path))\n",
    "    print(folder, end=\"\\n\\n\")"
   ]
  },
  {
   "attachments": {},
   "cell_type": "markdown",
   "metadata": {},
   "source": [
    "load dataset"
   ]
  },
  {
   "cell_type": "code",
   "execution_count": 2,
   "metadata": {},
   "outputs": [],
   "source": [
    "def shuffle_data(x, y, seed):\n",
    "    if len(x) != len(y):\n",
    "        print(\"x and y are not same the length.\")\n",
    "        return\n",
    "\n",
    "    order = np.arange(len(y))\n",
    "    np.random.seed(seed)\n",
    "    np.random.shuffle(order)\n",
    "    \n",
    "    new_x = list()\n",
    "    for i in order:\n",
    "        new_x.append(x[i])\n",
    "    \n",
    "    return new_x, y[order], order"
   ]
  },
  {
   "cell_type": "code",
   "execution_count": 3,
   "metadata": {},
   "outputs": [
    {
     "name": "stdout",
     "output_type": "stream",
     "text": [
      "train_x length:  53430\n",
      "train_x type:  <class 'list'>\n",
      "train_y length:  (53430,)\n",
      "train_y type:  <class 'numpy.ndarray'>\n",
      "valid_x length:  6645\n",
      "valid_x type:  <class 'list'>\n",
      "valid_y length:  (6645,)\n",
      "valid_y type:  <class 'numpy.ndarray'>\n"
     ]
    }
   ],
   "source": [
    "size = 224\n",
    "dataset_path = \"/\".join(RZ_LANCZOS4_data_path.split(\"/\")[:-1]) + \"/\"\n",
    "\n",
    "# 이미지 불러오기\n",
    "with open(os.path.join(dataset_path, \"224x224_train_data.pkl\"), \"rb\") as pkl_file:\n",
    "  train_x, train_y = pkl.load(pkl_file)\n",
    "\n",
    "with open(os.path.join(dataset_path, \"224x224_valid_data.pkl\"), \"rb\") as pkl_file:\n",
    "  valid_x, valid_y = pkl.load(pkl_file)\n",
    "\n",
    "print(\"train_x length: \", len(train_x))\n",
    "print(\"train_x type: \", type(train_x))\n",
    "print(\"train_y length: \", train_y.shape)\n",
    "print(\"train_y type: \", type(train_y))\n",
    "print(\"valid_x length: \", len(valid_x))\n",
    "print(\"valid_x type: \", type(valid_x))\n",
    "print(\"valid_y length: \", valid_y.shape)\n",
    "print(\"valid_y type: \", type(valid_y))"
   ]
  },
  {
   "cell_type": "code",
   "execution_count": 4,
   "metadata": {},
   "outputs": [],
   "source": [
    "train_x, train_y, order = shuffle_data(train_x, train_y, 42)\n",
    "valid_x, valid_y, order = shuffle_data(valid_x, valid_y, 42)"
   ]
  },
  {
   "attachments": {},
   "cell_type": "markdown",
   "metadata": {},
   "source": [
    "torch"
   ]
  },
  {
   "cell_type": "code",
   "execution_count": 7,
   "metadata": {},
   "outputs": [],
   "source": [
    "train_transforms = transforms.Compose([\n",
    "    transforms.RandomHorizontalFlip(p=0.5),\n",
    "    transforms.RandomVerticalFlip(p=0.5),\n",
    "    transforms.ToTensor(),\n",
    "    transforms.Normalize([0.5, 0.5, 0.5], [0.5, 0.5, 0.5])\n",
    "])\n",
    "\n",
    "test_transforms = transforms.Compose([\n",
    "    transforms.ToTensor(),\n",
    "    transforms.Normalize([0.5, 0.5, 0.5], [0.5, 0.5, 0.5])\n",
    "])"
   ]
  },
  {
   "cell_type": "code",
   "execution_count": 8,
   "metadata": {},
   "outputs": [],
   "source": [
    "train_dataset = sdm.Skin_Disease_Dataset(train_x, train_y, train_transforms)\n",
    "valid_dataset = sdm.Skin_Disease_Dataset(valid_x, valid_y, test_transforms)\n",
    "train_data_loader = DataLoader(train_dataset, batch_size=128, shuffle=True)\n",
    "valid_data_loader = DataLoader(valid_dataset, batch_size=128, shuffle=True)"
   ]
  },
  {
   "cell_type": "code",
   "execution_count": 5,
   "metadata": {},
   "outputs": [
    {
     "name": "stdout",
     "output_type": "stream",
     "text": [
      "==============================================================================================================\n",
      "Layer (type:depth-idx)                                       Output Shape              Param #\n",
      "==============================================================================================================\n",
      "Skin_Distinction_Model                                       [1, 6]                    --\n",
      "├─EfficientNet: 1-1                                          [1, 1000]                 --\n",
      "│    └─Sequential: 2-1                                       [1, 1280, 7, 7]           --\n",
      "│    │    └─Conv2dNormActivation: 3-1                        [1, 24, 112, 112]         696\n",
      "│    │    └─Sequential: 3-2                                  [1, 24, 112, 112]         10,464\n",
      "│    │    └─Sequential: 3-3                                  [1, 48, 56, 56]           303,552\n",
      "│    │    └─Sequential: 3-4                                  [1, 64, 28, 28]           589,184\n",
      "│    │    └─Sequential: 3-5                                  [1, 128, 14, 14]          917,680\n",
      "│    │    └─Sequential: 3-6                                  [1, 160, 14, 14]          3,463,840\n",
      "│    │    └─Sequential: 3-7                                  [1, 256, 7, 7]            14,561,832\n",
      "│    │    └─Conv2dNormActivation: 3-8                        [1, 1280, 7, 7]           330,240\n",
      "│    └─AdaptiveAvgPool2d: 2-2                                [1, 1280, 1, 1]           --\n",
      "│    └─Sequential: 2-3                                       [1, 1000]                 --\n",
      "│    │    └─Dropout: 3-9                                     [1, 1280]                 --\n",
      "│    │    └─Linear: 3-10                                     [1, 1000]                 1,281,000\n",
      "├─Linear: 1-2                                                [1, 6]                    6,006\n",
      "==============================================================================================================\n",
      "Total params: 21,464,494\n",
      "Trainable params: 21,464,494\n",
      "Non-trainable params: 0\n",
      "Total mult-adds (G): 2.85\n",
      "==============================================================================================================\n",
      "Input size (MB): 0.60\n",
      "Forward/backward pass size (MB): 194.82\n",
      "Params size (MB): 85.86\n",
      "Estimated Total Size (MB): 281.28\n",
      "==============================================================================================================\n"
     ]
    }
   ],
   "source": [
    "model_path = os.path.join(project_path, \"model/\", \"2023-03-16/\")\n",
    "mkadir(model_path)\n",
    "\n",
    "device = torch.device(\"cuda\" if torch.cuda.is_available() else \"cpu\")\n",
    "model = sdm.Skin_Distinction_Model(model=efficientnet_v2_s(weights=\"DEFAULT\"),\n",
    "                                   out_features=6,\n",
    "                                   device=device,\n",
    "                                   save_path=model_path).to(device)\n",
    "\n",
    "pprint(summary(model, input_size=(1, 3, 224, 224), verbose=0))"
   ]
  },
  {
   "cell_type": "code",
   "execution_count": 9,
   "metadata": {},
   "outputs": [],
   "source": [
    "# 0.000213388\n",
    "# optimizer = optim.SGD(model.parameters(), lr=7.5e-7, momentum=0.999, weight_decay=1e-5, nesterov=True)\n",
    "\n",
    "optimizer = optim.Adam(model.parameters(), lr=1e-4)\n",
    "criterion = nn.CrossEntropyLoss().to(device)\n",
    "epochs = 50"
   ]
  },
  {
   "cell_type": "code",
   "execution_count": 10,
   "metadata": {},
   "outputs": [
    {
     "name": "stdout",
     "output_type": "stream",
     "text": [
      "cuda\n"
     ]
    }
   ],
   "source": [
    "print(device)\n",
    "parameters = {\n",
    "    'Train_DataLoader' : train_data_loader,\n",
    "    'Valid_DataLoader' : valid_data_loader,\n",
    "    'Optimizer'        : optimizer,\n",
    "    'Loss_function'    : criterion,\n",
    "    'Epochs'           : epochs\n",
    "}"
   ]
  },
  {
   "cell_type": "code",
   "execution_count": 11,
   "metadata": {},
   "outputs": [
    {
     "data": {
      "application/vnd.jupyter.widget-view+json": {
       "model_id": "5d7d642216a342d0ac26eb4eb5f990c5",
       "version_major": 2,
       "version_minor": 0
      },
      "text/plain": [
       "  0%|          | 0/50 [00:00<?, ?it/s]"
      ]
     },
     "metadata": {},
     "output_type": "display_data"
    },
    {
     "name": "stdout",
     "output_type": "stream",
     "text": [
      "Epoch: 1/50\n",
      "Train - Loss: 0.024356, Accuracy: 99.26\n",
      "Valid - Loss: 2.754303, Accuracy: 61.14\n",
      "0 epoch end lr:  0.0001\n",
      "Epoch: 2/50\n",
      "Train - Loss: 0.027129, Accuracy: 99.05\n",
      "Valid - Loss: 2.865272, Accuracy: 61.87\n",
      "1 epoch end lr:  0.0001\n",
      "Epoch: 3/50\n",
      "Train - Loss: 0.021970, Accuracy: 99.24\n",
      "Valid - Loss: 2.984049, Accuracy: 61.07\n",
      "2 epoch end lr:  0.0001\n",
      "Epoch: 4/50\n",
      "Train - Loss: 0.023184, Accuracy: 99.23\n",
      "Valid - Loss: 3.029890, Accuracy: 61.11\n",
      "3 epoch end lr:  0.0001\n",
      "Epoch: 5/50\n",
      "Train - Loss: 0.022768, Accuracy: 99.25\n",
      "Valid - Loss: 2.863999, Accuracy: 61.75\n",
      "4 epoch end lr:  0.0001\n",
      "Epoch: 6/50\n",
      "Train - Loss: 0.020115, Accuracy: 99.30\n",
      "Valid - Loss: 2.991140, Accuracy: 61.87\n",
      "5 epoch end lr:  0.0001\n",
      "Epoch: 7/50\n",
      "Train - Loss: 0.022269, Accuracy: 99.22\n",
      "Valid - Loss: 2.989135, Accuracy: 61.00\n",
      "6 epoch end lr:  0.0001\n",
      "Epoch: 8/50\n",
      "Train - Loss: 0.022282, Accuracy: 99.25\n",
      "Valid - Loss: 2.952125, Accuracy: 61.29\n",
      "7 epoch end lr:  0.0001\n",
      "Epoch: 9/50\n",
      "Train - Loss: 0.022004, Accuracy: 99.24\n",
      "Valid - Loss: 2.927637, Accuracy: 62.41\n",
      "Save model, validation acc: 62.40690232577252\n",
      "8 epoch end lr:  0.0001\n",
      "Epoch: 10/50\n",
      "Train - Loss: 0.022669, Accuracy: 99.26\n",
      "Valid - Loss: 3.211685, Accuracy: 61.47\n",
      "9 epoch end lr:  0.0001\n",
      "Epoch: 11/50\n",
      "Train - Loss: 0.021674, Accuracy: 99.28\n",
      "Valid - Loss: 3.156058, Accuracy: 61.20\n",
      "10 epoch end lr:  0.0001\n",
      "Epoch: 12/50\n",
      "Train - Loss: 0.022505, Accuracy: 99.24\n",
      "Valid - Loss: 2.902105, Accuracy: 60.65\n",
      "11 epoch end lr:  0.0001\n",
      "Epoch: 13/50\n",
      "Train - Loss: 0.022082, Accuracy: 99.26\n",
      "Valid - Loss: 3.071674, Accuracy: 61.00\n",
      "12 epoch end lr:  0.0001\n",
      "Epoch: 14/50\n",
      "Train - Loss: 0.021341, Accuracy: 99.28\n",
      "Valid - Loss: 3.136670, Accuracy: 60.99\n",
      "13 epoch end lr:  0.0001\n",
      "Epoch: 15/50\n",
      "Train - Loss: 0.021756, Accuracy: 99.25\n",
      "Valid - Loss: 3.303975, Accuracy: 60.48\n",
      "14 epoch end lr:  0.0001\n",
      "Epoch: 16/50\n",
      "Train - Loss: 0.020823, Accuracy: 99.27\n",
      "Valid - Loss: 3.118639, Accuracy: 61.03\n",
      "15 epoch end lr:  0.0001\n",
      "Epoch: 17/50\n",
      "Train - Loss: 0.023326, Accuracy: 99.22\n",
      "Valid - Loss: 2.952825, Accuracy: 61.48\n",
      "16 epoch end lr:  0.0001\n",
      "Epoch: 18/50\n",
      "Train - Loss: 0.019460, Accuracy: 99.36\n",
      "Valid - Loss: 2.923127, Accuracy: 61.17\n",
      "17 epoch end lr:  0.0001\n",
      "Epoch: 19/50\n",
      "Train - Loss: 0.020612, Accuracy: 99.30\n",
      "Valid - Loss: 2.991400, Accuracy: 61.82\n",
      "18 epoch end lr:  0.0001\n",
      "Epoch: 20/50\n",
      "Train - Loss: 0.020994, Accuracy: 99.28\n",
      "Valid - Loss: 3.024755, Accuracy: 60.22\n",
      "19 epoch end lr:  0.0001\n",
      "Epoch: 21/50\n",
      "Train - Loss: 0.019515, Accuracy: 99.36\n",
      "Valid - Loss: 3.090949, Accuracy: 60.99\n",
      "20 epoch end lr:  0.0001\n",
      "Epoch: 22/50\n",
      "Train - Loss: 0.022964, Accuracy: 99.25\n",
      "Valid - Loss: 3.093059, Accuracy: 61.72\n",
      "21 epoch end lr:  0.0001\n",
      "Epoch: 23/50\n",
      "Train - Loss: 0.020634, Accuracy: 99.37\n",
      "Valid - Loss: 3.120659, Accuracy: 61.50\n",
      "22 epoch end lr:  0.0001\n",
      "Epoch: 24/50\n",
      "Train - Loss: 0.021094, Accuracy: 99.28\n",
      "Valid - Loss: 2.923657, Accuracy: 60.22\n",
      "23 epoch end lr:  0.0001\n",
      "Epoch: 25/50\n",
      "Train - Loss: 0.018318, Accuracy: 99.37\n",
      "Valid - Loss: 3.127354, Accuracy: 60.27\n",
      "24 epoch end lr:  0.0001\n",
      "Epoch: 26/50\n",
      "Train - Loss: 0.018611, Accuracy: 99.36\n",
      "Valid - Loss: 2.953077, Accuracy: 61.19\n",
      "25 epoch end lr:  0.0001\n",
      "Epoch: 27/50\n",
      "Train - Loss: 0.018902, Accuracy: 99.35\n",
      "Valid - Loss: 3.112493, Accuracy: 60.51\n",
      "26 epoch end lr:  0.0001\n",
      "Epoch: 28/50\n",
      "Train - Loss: 0.020172, Accuracy: 99.38\n",
      "Valid - Loss: 3.198547, Accuracy: 61.08\n",
      "27 epoch end lr:  0.0001\n",
      "Epoch: 29/50\n",
      "Train - Loss: 0.021768, Accuracy: 99.25\n",
      "Valid - Loss: 3.165902, Accuracy: 61.19\n",
      "28 epoch end lr:  0.0001\n",
      "Epoch: 30/50\n",
      "Train - Loss: 0.018832, Accuracy: 99.38\n",
      "Valid - Loss: 3.237090, Accuracy: 59.88\n",
      "29 epoch end lr:  0.0001\n",
      "Epoch: 31/50\n",
      "Train - Loss: 0.018128, Accuracy: 99.37\n",
      "Valid - Loss: 3.096095, Accuracy: 60.31\n",
      "30 epoch end lr:  0.0001\n",
      "Epoch: 32/50\n",
      "Train - Loss: 0.020542, Accuracy: 99.37\n",
      "Valid - Loss: 2.988654, Accuracy: 61.10\n",
      "31 epoch end lr:  0.0001\n",
      "Epoch: 33/50\n",
      "Train - Loss: 0.018402, Accuracy: 99.37\n",
      "Valid - Loss: 3.107387, Accuracy: 61.45\n",
      "32 epoch end lr:  0.0001\n",
      "Epoch: 34/50\n",
      "Train - Loss: 0.018801, Accuracy: 99.40\n",
      "Valid - Loss: 3.200943, Accuracy: 60.26\n",
      "33 epoch end lr:  0.0001\n",
      "Epoch: 35/50\n",
      "Train - Loss: 0.018503, Accuracy: 99.34\n",
      "Valid - Loss: 3.185979, Accuracy: 60.55\n",
      "34 epoch end lr:  0.0001\n",
      "Epoch: 36/50\n",
      "Train - Loss: 0.019733, Accuracy: 99.35\n",
      "Valid - Loss: 2.963638, Accuracy: 60.43\n",
      "35 epoch end lr:  0.0001\n",
      "Epoch: 37/50\n",
      "Train - Loss: 0.017889, Accuracy: 99.41\n",
      "Valid - Loss: 3.133120, Accuracy: 60.72\n",
      "36 epoch end lr:  0.0001\n",
      "Epoch: 38/50\n",
      "Train - Loss: 0.018115, Accuracy: 99.40\n",
      "Valid - Loss: 3.273874, Accuracy: 60.89\n",
      "37 epoch end lr:  0.0001\n",
      "Epoch: 39/50\n",
      "Train - Loss: 0.018221, Accuracy: 99.38\n",
      "Valid - Loss: 3.364073, Accuracy: 60.86\n",
      "38 epoch end lr:  0.0001\n",
      "Epoch: 40/50\n"
     ]
    },
    {
     "ename": "KeyboardInterrupt",
     "evalue": "",
     "output_type": "error",
     "traceback": [
      "\u001b[1;31m---------------------------------------------------------------------------\u001b[0m",
      "\u001b[1;31mKeyboardInterrupt\u001b[0m                         Traceback (most recent call last)",
      "Cell \u001b[1;32mIn[11], line 1\u001b[0m\n\u001b[1;32m----> 1\u001b[0m history \u001b[39m=\u001b[39m model\u001b[39m.\u001b[39;49mfit(parameters)\n",
      "File \u001b[1;32md:\\GitHub\\Pet-care-app\\Capstone\\2023\\skin disease\\module\\skin_disease_model.py:84\u001b[0m, in \u001b[0;36mSkin_Distinction_Model.fit\u001b[1;34m(self, parameters)\u001b[0m\n\u001b[0;32m     82\u001b[0m value, labels \u001b[39m=\u001b[39m torch\u001b[39m.\u001b[39mmax(outputs\u001b[39m.\u001b[39mdata, dim\u001b[39m=\u001b[39mCOLUMN)\n\u001b[0;32m     83\u001b[0m batch \u001b[39m=\u001b[39m targets\u001b[39m.\u001b[39msize(dim\u001b[39m=\u001b[39mROW)\n\u001b[1;32m---> 84\u001b[0m train_acc \u001b[39m=\u001b[39m (labels \u001b[39m==\u001b[39;49m targets)\u001b[39m.\u001b[39;49msum()\u001b[39m.\u001b[39;49mitem() \u001b[39m/\u001b[39m batch \u001b[39m*\u001b[39m \u001b[39m100\u001b[39m\n\u001b[0;32m     85\u001b[0m batch_train_loss\u001b[39m.\u001b[39mappend(train_loss\u001b[39m.\u001b[39mitem())\n\u001b[0;32m     86\u001b[0m batch_train_acc\u001b[39m.\u001b[39mappend(train_acc)\n",
      "\u001b[1;31mKeyboardInterrupt\u001b[0m: "
     ]
    }
   ],
   "source": [
    "history = model.fit(parameters)"
   ]
  },
  {
   "attachments": {},
   "cell_type": "markdown",
   "metadata": {},
   "source": [
    "evaluate"
   ]
  },
  {
   "cell_type": "code",
   "execution_count": 6,
   "metadata": {},
   "outputs": [],
   "source": [
    "save_model_path = os.path.join(project_path, \"model/\", \"2023-03-16/\")\n",
    "with open(f\"{save_model_path}last_history.pkl\", \"rb\") as pkl_file:\n",
    "    history = pkl.load(pkl_file)"
   ]
  },
  {
   "cell_type": "code",
   "execution_count": 7,
   "metadata": {},
   "outputs": [
    {
     "data": {
      "image/png": "[encoded data removed]",
      "text/plain": [
       "<Figure size 1000x400 with 2 Axes>"
      ]
     },
     "metadata": {},
     "output_type": "display_data"
    }
   ],
   "source": [
    "train_loss = history[\"train_loss\"]\n",
    "train_acc = history[\"train_acc\"]\n",
    "valid_loss = history[\"valid_loss\"]\n",
    "valid_acc = history[\"valid_acc\"]\n",
    "epoch = len(history[\"train_loss\"])\n",
    "\n",
    "fig, ax = plt.subplots(1, 2, figsize=(10, 4))\n",
    "ax[0].plot(train_loss, 'b', label=\"training\")\n",
    "ax[0].plot(valid_loss, '--r', label=\"validation\")\n",
    "ax[0].legend()\n",
    "ax[0].grid()\n",
    "\n",
    "ax[1].plot(train_acc, 'b', label=\"training\")\n",
    "ax[1].plot(valid_acc, '--r', label=\"validation\")\n",
    "ax[1].legend()\n",
    "ax[1].grid()\n",
    "plt.show()"
   ]
  },
  {
   "cell_type": "code",
   "execution_count": 8,
   "metadata": {},
   "outputs": [
    {
     "data": {
      "text/plain": [
       "<All keys matched successfully>"
      ]
     },
     "execution_count": 8,
     "metadata": {},
     "output_type": "execute_result"
    }
   ],
   "source": [
    "model.load_state_dict(torch.load(f\"{save_model_path}high_acc.pth\"))"
   ]
  },
  {
   "cell_type": "code",
   "execution_count": 9,
   "metadata": {},
   "outputs": [
    {
     "data": {
      "application/vnd.jupyter.widget-view+json": {
       "model_id": "33eb6a7218084ad8a0ae3b948b6e83a0",
       "version_major": 2,
       "version_minor": 0
      },
      "text/plain": [
       "  0%|          | 0/52 [00:00<?, ?it/s]"
      ]
     },
     "metadata": {},
     "output_type": "display_data"
    }
   ],
   "source": [
    "with torch.no_grad():\n",
    "    pred, labels = model.predict(valid_x)"
   ]
  },
  {
   "cell_type": "code",
   "execution_count": 10,
   "metadata": {},
   "outputs": [
    {
     "data": {
      "text/plain": [
       "0.6239277652370203"
      ]
     },
     "execution_count": 10,
     "metadata": {},
     "output_type": "execute_result"
    }
   ],
   "source": [
    "accuracy_score(valid_y, labels.cpu())"
   ]
  },
  {
   "cell_type": "code",
   "execution_count": 11,
   "metadata": {},
   "outputs": [
    {
     "name": "stdout",
     "output_type": "stream",
     "text": [
      "AUC per class: [0.8540246983139745, 0.8725201592436745, 0.8659064816524953, 0.8819815081970674, 0.8260698436322431, 0.961470793330844]\n"
     ]
    },
    {
     "data": {
      "image/png": "[encoded data removed]",
      "text/plain": [
       "<Figure size 640x480 with 1 Axes>"
      ]
     },
     "metadata": {},
     "output_type": "display_data"
    }
   ],
   "source": [
    "from sklearn.metrics import roc_curve, roc_auc_score\n",
    "\n",
    "# 예측값과 레이블 값을 가져옵니다.\n",
    "y_pred = pred.cpu()\n",
    "y_true = valid_y\n",
    "\n",
    "# Softmax 함수를 사용하여 확률값을 계산합니다.\n",
    "y_pred = torch.softmax(y_pred, dim=1)\n",
    "\n",
    "# 각 클래스에 대한 AUC 값을 계산합니다.\n",
    "auc_list = []\n",
    "for i in range(6):\n",
    "    auc = roc_auc_score((y_true == i), y_pred[:, i].numpy())\n",
    "    auc_list.append(auc)\n",
    "\n",
    "# AUC 값을 출력합니다.\n",
    "print(\"AUC per class:\", auc_list)\n",
    "\n",
    "# 각 클래스별 FPR과 TPR 값을 구합니다.\n",
    "fpr_list = []\n",
    "tpr_list = []\n",
    "for i in range(6):\n",
    "    fpr, tpr, _ = roc_curve((y_true == i), y_pred[:, i].numpy())\n",
    "    fpr_list.append(fpr)\n",
    "    tpr_list.append(tpr)\n",
    "\n",
    "# 모든 클래스에 대한 FPR과 TPR 값을 평균 내어 멀티클래스 AUC 값을 구합니다.\n",
    "mean_fpr = np.unique(np.concatenate(fpr_list))\n",
    "mean_tpr = np.zeros_like(mean_fpr)\n",
    "for i in range(5):\n",
    "    mean_tpr += np.interp(mean_fpr, fpr_list[i], tpr_list[i])\n",
    "mean_tpr /= 5\n",
    "\n",
    "# 멀티클래스 AUC-ROC 커브를 그립니다.\n",
    "plt.plot(mean_fpr, mean_tpr, label='Multi-class ROC curve (AUC = %0.2f)' % np.mean(auc_list))\n",
    "plt.plot([0, 1], [0, 1], 'k--')\n",
    "plt.xlabel('False Positive Rate')\n",
    "plt.ylabel('True Positive Rate')\n",
    "plt.legend(loc='lower right')\n",
    "plt.show()"
   ]
  },
  {
   "cell_type": "code",
   "execution_count": 12,
   "metadata": {},
   "outputs": [
    {
     "name": "stdout",
     "output_type": "stream",
     "text": [
      "              precision    recall  f1-score   support\n",
      "\n",
      "          A1       0.59      0.56      0.57      1087\n",
      "          A2       0.62      0.67      0.65      1331\n",
      "          A3       0.55      0.69      0.61      1317\n",
      "          A4       0.63      0.63      0.63      1092\n",
      "          A5       0.63      0.40      0.49      1056\n",
      "          A6       0.84      0.81      0.83       762\n",
      "\n",
      "    accuracy                           0.62      6645\n",
      "   macro avg       0.64      0.63      0.63      6645\n",
      "weighted avg       0.63      0.62      0.62      6645\n",
      "\n"
     ]
    }
   ],
   "source": [
    "from sklearn.metrics import classification_report\n",
    "print(classification_report(y_true=valid_y, y_pred=labels.cpu(), target_names=[\"A1\", \"A2\", \"A3\", \"A4\", \"A5\", \"A6\"]))"
   ]
  }
 ],
 "metadata": {
  "kernelspec": {
   "display_name": "capstone",
   "language": "python",
   "name": "python3"
  },
  "language_info": {
   "codemirror_mode": {
    "name": "ipython",
    "version": 3
   },
   "file_extension": ".py",
   "mimetype": "text/x-python",
   "name": "python",
   "nbconvert_exporter": "python",
   "pygments_lexer": "ipython3",
   "version": "3.9.16"
  },
  "orig_nbformat": 4
 },
 "nbformat": 4,
 "nbformat_minor": 2
}
