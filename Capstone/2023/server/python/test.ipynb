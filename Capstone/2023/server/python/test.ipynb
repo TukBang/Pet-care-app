{
 "cells": [
  {
   "cell_type": "code",
   "execution_count": 2,
   "metadata": {},
   "outputs": [
    {
     "name": "stdout",
     "output_type": "stream",
     "text": [
      "Collecting flask\n",
      "  Downloading Flask-2.2.3-py3-none-any.whl (101 kB)\n",
      "     -------------------------------------- 101.8/101.8 kB 5.7 MB/s eta 0:00:00\n",
      "Collecting flask_restful\n",
      "  Downloading Flask_RESTful-0.3.9-py2.py3-none-any.whl (25 kB)\n",
      "Collecting itsdangerous>=2.0\n",
      "  Downloading itsdangerous-2.1.2-py3-none-any.whl (15 kB)\n",
      "Collecting Jinja2>=3.0\n",
      "  Downloading Jinja2-3.1.2-py3-none-any.whl (133 kB)\n",
      "     ---------------------------------------- 133.1/133.1 kB ? eta 0:00:00\n",
      "Requirement already satisfied: importlib-metadata>=3.6.0 in c:\\users\\bang\\anaconda3\\envs\\capstone\\lib\\site-packages (from flask) (6.0.0)\n",
      "Collecting click>=8.0\n",
      "  Downloading click-8.1.3-py3-none-any.whl (96 kB)\n",
      "     ---------------------------------------- 96.6/96.6 kB 5.8 MB/s eta 0:00:00\n",
      "Requirement already satisfied: Werkzeug>=2.2.2 in c:\\users\\bang\\anaconda3\\envs\\capstone\\lib\\site-packages (from flask) (2.2.2)\n",
      "Collecting aniso8601>=0.82\n",
      "  Downloading aniso8601-9.0.1-py2.py3-none-any.whl (52 kB)\n",
      "     ---------------------------------------- 52.8/52.8 kB ? eta 0:00:00\n",
      "Requirement already satisfied: pytz in c:\\users\\bang\\anaconda3\\envs\\capstone\\lib\\site-packages (from flask_restful) (2022.7.1)\n",
      "Requirement already satisfied: six>=1.3.0 in c:\\users\\bang\\anaconda3\\envs\\capstone\\lib\\site-packages (from flask_restful) (1.16.0)\n",
      "Requirement already satisfied: colorama in c:\\users\\bang\\anaconda3\\envs\\capstone\\lib\\site-packages (from click>=8.0->flask) (0.4.6)\n",
      "Requirement already satisfied: zipp>=0.5 in c:\\users\\bang\\anaconda3\\envs\\capstone\\lib\\site-packages (from importlib-metadata>=3.6.0->flask) (3.12.1)\n",
      "Requirement already satisfied: MarkupSafe>=2.0 in c:\\users\\bang\\anaconda3\\envs\\capstone\\lib\\site-packages (from Jinja2>=3.0->flask) (2.1.2)\n",
      "Installing collected packages: aniso8601, Jinja2, itsdangerous, click, flask, flask_restful\n",
      "Successfully installed Jinja2-3.1.2 aniso8601-9.0.1 click-8.1.3 flask-2.2.3 flask_restful-0.3.9 itsdangerous-2.1.2\n"
     ]
    }
   ],
   "source": [
    "!pip install flask flask_restful"
   ]
  },
  {
   "cell_type": "code",
   "execution_count": null,
   "metadata": {},
   "outputs": [],
   "source": []
  }
 ],
 "metadata": {
  "kernelspec": {
   "display_name": "capstone",
   "language": "python",
   "name": "python3"
  },
  "language_info": {
   "codemirror_mode": {
    "name": "ipython",
    "version": 3
   },
   "file_extension": ".py",
   "mimetype": "text/x-python",
   "name": "python",
   "nbconvert_exporter": "python",
   "pygments_lexer": "ipython3",
   "version": "3.9.16"
  },
  "orig_nbformat": 4
 },
 "nbformat": 4,
 "nbformat_minor": 2
}
