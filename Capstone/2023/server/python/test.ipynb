{
 "cells": [
  {
   "cell_type": "code",
   "execution_count": 1,
   "metadata": {},
   "outputs": [],
   "source": [
    "import base64\n",
    "import json\n",
    "import io\n",
    "import sys, os\n",
    "import numpy as np\n",
    "import cv2\n",
    "from PIL import Image\n",
    "import requests"
   ]
  },
  {
   "cell_type": "code",
   "execution_count": 4,
   "metadata": {},
   "outputs": [
    {
     "name": "stdout",
     "output_type": "stream",
     "text": [
      "{\"name\": \"example.jpg\", \"image\": \"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\"}\n"
     ]
    }
   ],
   "source": [
    "# 이미지를 base64로 인코딩\n",
    "def encode_image(image_path):\n",
    "    with open(image_path, \"rb\") as image_file:\n",
    "        encoded_string = base64.b64encode(image_file.read()).decode(\"utf-8\")\n",
    "    return encoded_string\n",
    "\n",
    "# 이미지 파일 경로\n",
    "image_path = \"E:/Tukorea/Capstone/images/example.jpg\"\n",
    "\n",
    "# 이미지 인코딩\n",
    "encoded_image = encode_image(image_path)\n",
    "\n",
    "# JSON 형태로 변환\n",
    "json_data = {\n",
    "    \"name\": \"example.jpg\",\n",
    "    \"image\": encoded_image\n",
    "}\n",
    "\n",
    "# JSON 문자열로 변환\n",
    "json_string = json.dumps(json_data)\n",
    "\n",
    "print(json_string)"
   ]
  },
  {
   "cell_type": "code",
   "execution_count": 5,
   "metadata": {},
   "outputs": [],
   "source": [
    "image_data = base64.b64decode(encoded_image)\n",
    "image = Image.open(io.BytesIO(image_data))\n",
    "image_name = json_data.get('name', 'unnamed.jpg')\n",
    "image_path = os.path.join('images', image_name)\n",
    "# image.save(image_path)"
   ]
  },
  {
   "cell_type": "code",
   "execution_count": 6,
   "metadata": {},
   "outputs": [
    {
     "data": {
      "text/plain": [
       "'example.jpg'"
      ]
     },
     "execution_count": 6,
     "metadata": {},
     "output_type": "execute_result"
    }
   ],
   "source": [
    "json_data.get('name', 'unnamed.jpg')"
   ]
  },
  {
   "cell_type": "code",
   "execution_count": 7,
   "metadata": {},
   "outputs": [
    {
     "data": {
      "text/plain": [
       "{'name': 'example.jpg',\n",
       " 'image': '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'}"
      ]
     },
     "execution_count": 7,
     "metadata": {},
     "output_type": "execute_result"
    }
   ],
   "source": [
    "json.loads(json_string)"
   ]
  },
  {
   "cell_type": "code",
   "execution_count": 8,
   "metadata": {},
   "outputs": [
    {
     "data": {
      "text/plain": [
       "{'name': 'example.jpg',\n",
       " 'image': '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'}"
      ]
     },
     "execution_count": 8,
     "metadata": {},
     "output_type": "execute_result"
    }
   ],
   "source": [
    "json_data"
   ]
  },
  {
   "cell_type": "code",
   "execution_count": 9,
   "metadata": {},
   "outputs": [],
   "source": [
    "url = \"http://61.106.219.238:5000/images\""
   ]
  },
  {
   "cell_type": "code",
   "execution_count": null,
   "metadata": {},
   "outputs": [],
   "source": [
    "http_post_request = requests.get(url, params={\"name\": \"user1\"})\n",
    "print(http_post_request.text)\n",
    "print(http_post_request.status_code)"
   ]
  },
  {
   "cell_type": "code",
   "execution_count": 10,
   "metadata": {},
   "outputs": [],
   "source": [
    "ret = requests.post(url, json=json_data, headers={'Content-Type': 'application/json; charset=utf-8'})"
   ]
  },
  {
   "cell_type": "code",
   "execution_count": 11,
   "metadata": {},
   "outputs": [
    {
     "data": {
      "text/plain": [
       "b'{\\n  \"L1\": 0.05010825117990244,\\n  \"L2\": 0.5992807852549211,\\n  \"L3\": 0.19948434446597355,\\n  \"L4\": 0.023328489275067955,\\n  \"L5\": 0.09846641550414369,\\n  \"L6\": 0.02933171431999129,\\n  \"name\": \"example.jpg\"\\n}\\n'"
      ]
     },
     "execution_count": 11,
     "metadata": {},
     "output_type": "execute_result"
    }
   ],
   "source": [
    "ret.content"
   ]
  },
  {
   "cell_type": "code",
   "execution_count": null,
   "metadata": {},
   "outputs": [],
   "source": []
  }
 ],
 "metadata": {
  "kernelspec": {
   "display_name": "capstone",
   "language": "python",
   "name": "python3"
  },
  "language_info": {
   "codemirror_mode": {
    "name": "ipython",
    "version": 3
   },
   "file_extension": ".py",
   "mimetype": "text/x-python",
   "name": "python",
   "nbconvert_exporter": "python",
   "pygments_lexer": "ipython3",
   "version": "3.9.16"
  },
  "orig_nbformat": 4,
  "vscode": {
   "interpreter": {
    "hash": "88b45362d68994ba274345a2aea736a99aead0de6ce9e063611997e445d73fc1"
   }
  }
 },
 "nbformat": 4,
 "nbformat_minor": 2
}
