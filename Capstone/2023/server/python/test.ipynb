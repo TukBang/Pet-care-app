{
 "cells": [
  {
   "cell_type": "code",
   "execution_count": 1,
   "metadata": {},
   "outputs": [],
   "source": [
    "from flask import Flask, request, send_from_directory\n",
    "from flask_restful import Resource, Api\n",
    "from PIL import Image\n",
    "import base64\n",
    "import io\n",
    "import os\n",
    "\n",
    "app = Flask(__name__)\n",
    "api = Api(app)\n",
    "\n",
    "# Ensure the 'images' directory exists\n",
    "if not os.path.exists('images'):\n",
    "    os.makedirs('images')\n",
    "\n",
    "class ImageResource(Resource):\n",
    "    # 이 부분은 인공지능 결과에 대한 데이터가 보내져야 함\n",
    "    def get(self, image_name):\n",
    "        if os.path.isfile(os.path.join('images', image_name)):\n",
    "            return send_from_directory('images', image_name)\n",
    "        else:\n",
    "            return {'error': 'Image not found'}, 404\n",
    "\n",
    "    # 이미지를 받으면, 저장하고, 인공지능 모델에 넣어야 함\n",
    "    def post(self):\n",
    "        data = request.get_json()\n",
    "        image_data = data.get('image', None)\n",
    "        if image_data:\n",
    "            try:\n",
    "                image_data = base64.b64decode(image_data)\n",
    "                image = Image.open(io.BytesIO(image_data))\n",
    "                image_name = data.get('name', 'unnamed.jpg')\n",
    "                image_path = os.path.join('images', image_name)\n",
    "                image.save(image_path)\n",
    "\n",
    "\n",
    "                \n",
    "                return {'message': 'Image saved successfully', 'name': image_name}\n",
    "            \n",
    "            except Exception as e:\n",
    "                return {'error': str(e)}, 400\n",
    "        else:\n",
    "            return {'error': 'No image data found'}, 400\n",
    "\n",
    "api.add_resource(ImageResource, '/image', '/image/<string:image_name>')"
   ]
  },
  {
   "cell_type": "code",
   "execution_count": null,
   "metadata": {},
   "outputs": [],
   "source": []
  },
  {
   "cell_type": "code",
   "execution_count": 3,
   "metadata": {},
   "outputs": [
    {
     "name": "stdout",
     "output_type": "stream",
     "text": [
      "{\"name\": \"example.jpg\", \"image\": \"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\"}\n"
     ]
    }
   ],
   "source": [
    "import base64\n",
    "import json\n",
    "\n",
    "# 이미지를 base64로 인코딩\n",
    "def encode_image(image_path):\n",
    "    with open(image_path, \"rb\") as image_file:\n",
    "        encoded_string = base64.b64encode(image_file.read()).decode(\"utf-8\")\n",
    "    return encoded_string\n",
    "\n",
    "# 이미지 파일 경로\n",
    "image_path = \"images/test.png\"\n",
    "\n",
    "# 이미지 인코딩\n",
    "encoded_image = encode_image(image_path)\n",
    "\n",
    "# JSON 형태로 변환\n",
    "json_data = {\n",
    "    \"name\": \"example.jpg\",\n",
    "    \"image\": encoded_image\n",
    "}\n",
    "\n",
    "# JSON 문자열로 변환\n",
    "json_string = json.dumps(json_data)\n",
    "\n",
    "print(json_string)"
   ]
  },
  {
   "cell_type": "code",
   "execution_count": 4,
   "metadata": {},
   "outputs": [
    {
     "data": {
      "text/plain": [
       "'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'"
      ]
     },
     "execution_count": 4,
     "metadata": {},
     "output_type": "execute_result"
    }
   ],
   "source": [
    "encoded_image"
   ]
  },
  {
   "cell_type": "code",
   "execution_count": null,
   "metadata": {},
   "outputs": [],
   "source": [
    "image_data = base64.b64decode(encoded_image)\n",
    "image = Image.open(io.BytesIO(image_data))\n",
    "image_name = json_data.get('name', 'unnamed.jpg')\n",
    "image_path = os.path.join('images', image_name)\n",
    "image.save(image_path)"
   ]
  },
  {
   "cell_type": "code",
   "execution_count": 6,
   "metadata": {},
   "outputs": [
    {
     "data": {
      "text/plain": [
       "'example.jpg'"
      ]
     },
     "execution_count": 6,
     "metadata": {},
     "output_type": "execute_result"
    }
   ],
   "source": [
    "json_data.get('name', 'unnamed.jpg')"
   ]
  },
  {
   "cell_type": "code",
   "execution_count": 7,
   "metadata": {},
   "outputs": [
    {
     "data": {
      "text/plain": [
       "{'name': 'example.jpg',\n",
       " 'image': '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'}"
      ]
     },
     "execution_count": 7,
     "metadata": {},
     "output_type": "execute_result"
    }
   ],
   "source": [
    "json.loads(json_string)"
   ]
  },
  {
   "cell_type": "code",
   "execution_count": 9,
   "metadata": {},
   "outputs": [
    {
     "name": "stdout",
     "output_type": "stream",
     "text": [
      "Collecting requests\n",
      "  Using cached requests-2.28.2-py3-none-any.whl (62 kB)\n",
      "Collecting urllib3<1.27,>=1.21.1\n",
      "  Using cached urllib3-1.26.15-py2.py3-none-any.whl (140 kB)\n",
      "Collecting idna<4,>=2.5\n",
      "  Using cached idna-3.4-py3-none-any.whl (61 kB)\n",
      "Requirement already satisfied: certifi>=2017.4.17 in c:\\users\\bang\\anaconda3\\envs\\capstone\\lib\\site-packages (from requests) (2022.12.7)\n",
      "Collecting charset-normalizer<4,>=2\n",
      "  Using cached charset_normalizer-3.1.0-cp39-cp39-win_amd64.whl (97 kB)\n",
      "Installing collected packages: urllib3, idna, charset-normalizer, requests\n",
      "Successfully installed charset-normalizer-3.1.0 idna-3.4 requests-2.28.2 urllib3-1.26.15\n"
     ]
    }
   ],
   "source": [
    "!pip install requests"
   ]
  },
  {
   "cell_type": "code",
   "execution_count": 17,
   "metadata": {},
   "outputs": [
    {
     "name": "stdout",
     "output_type": "stream",
     "text": [
      "{\n",
      "    \"message\": \"The requested URL was not found on the server. If you entered the URL manually please check your spelling and try again.\"\n",
      "}\n",
      "\n",
      "404\n"
     ]
    }
   ],
   "source": [
    "import requests\n",
    "\n",
    "url = \"http://192.168.122.62:5000/images/example.jpg\"\n",
    "\n",
    "http_post_request = requests.get(url, params={\"name\": \"user1\"})\n",
    "print(http_post_request.text)\n",
    "print(http_post_request.status_code)"
   ]
  },
  {
   "cell_type": "code",
   "execution_count": 15,
   "metadata": {},
   "outputs": [
    {
     "data": {
      "text/plain": [
       "{'name': 'example.jpg',\n",
       " 'image': 'iVBORw0KGgoAAAANSUhEUgAAAMgAAADICAIAAAAiOjnJAAAAAXNSR0IArs4c6QAAAARnQU1BAACxjwv8YQUAAAAJcEhZcwAAEnQAABJ0Ad5mH3gAAAhDSURBVHhe7d2tchsxFIZhT1FgYaEvobAw0DAwsDCwMMywlxAYWFhoaBhoWFhoGGjYnrG+aDRxbOtnT7RZvw/oeLWRkll9XWl/PfsHOCBYcEGw4IJgwQXBgguCBRcECy4IFlwQLLggWHBBsOCCYMEFwYILggUXBAsuCBZcECy4IFhwQbDggmDBBcGCC4IFFwQLLggWXBAsuCBYcEGw4IJgwQXBgguCBRcECy4IFlwQLLggWHBBsOCCYMEFwYILggUXBAsuCBZcECy4IFhwQbDggmDBRYdgPT4+Xl9f279axhS9a7AsTPP5fLZ3dXW12+20ApPzfsF6eHgIkQpub2+1AlP0TsHabre2i1Km9qlidzVt7xSsu7u7EKmvX78SqUvwHsFKB8Hfv3+rFJPmHqx0EFwsFirF1LkH68ePHyFVDIIXxT1YX758CcFiELwovsFar9chVfP5XEW4DL7BigeD9/f3KsJlcAxWOm1/enpSKS6DY7DSabuKTlqtVlxDnAyvYP39+zfurjKn7WGab7W0jI/MK1jfvn0LqbIPKjon/LzRMj4yl178+fNniIjtfv78+aPSc0IVo+UqjKcjMXyw0jm7JUylGUIVo+UqjKcjMXywSufsUahltFxFTTCe9jZwB1TM2aNQy2i5ipogWL0N3AEVc/YoVDRarqImCFZvQ3ZA3Zw9CnVNywRcTRCs3obsgHi9uWjOHoW6pmUCHlowWkYnQ3aAurS2U1U5oRUlVJNg9Uaw4GKMwYrHlcvlUuuyhYpGy+hkjMGKZ8LMZrPR6jyqRrB6G6wDttuturQ5WLvdzo4Kw+ebmxutzhNqGS2jk8E6IH3AS0WFQnVjn21HpYVa8/mcK4Yd1QdrtVqF5+Xt33he1FTf2676Lzub79+/a7kWVww7qg9WfAtDquUBLzXxEiwbEBuzZTvR0BTeX32w4nn26NOnTy0PeKmVtumRmmCO1dsAHaCe3Cs9iEupCYI1CQMHq/QgLqUmCNYkDBwso9Jyqk+wJqG1A+IjqZFWlFN9gjUJrR0QT19FWlFO9RtaSF9royJ00toB8VaZSCvKqX5DC/GP4XWB3TUFK301Q7xyXH1gGKobLZdT/f1FIRWhk6Zgpa9msJ1E+Fx9YBiqGy2XU33GwRGo74NXr2ZIr+7pJwqpMsGahPo+OHzMKyyasFiq5TYs0357BQZU2Qfp7ipedW6cZqW3YVVkq/32CgyoMlhvPpXaOM2yGfdisQgttODVgWNQE6w3d1cmnWbVPajTni3enzsSNcE68RB9vNHFkld3zG+1qu+W4XsJxqM4WMd2V4H1axgQLRwqwkUqDtaJ3VVk4dMnXKriYMXLJsyRcUJxsEKqjJaBt5Tlg5OQyFSWj5wJFmDKgsUEC5lygxWfIgxUChyRG5E0VdxGh7NygxWfIuTsNnIwqMEFwYILggUXBAsuCBZcECy4IFhwQbDggmDBBcGCC4IFFwQLLggWXBAsuCBYZ6Tfk8BXXeQjWGekryy84qsushGsM+Jj30HdOykuEME6I9w6G+/MZqeViWBl2e12IVhGRTiJzZRLsSJYedhMuRQrgpVnmptptVpdX18Pe3ZAsSJYeaa5mcI5gmEn2iFVRss4aZqbSREYNARq8YUdJz48PGgdDhCsXK9OaAWc1jqGYOWKz4KnOK11TOdgecyyjbrdbT7Eaa2zOm8Xj1m2CV1utOxAv4BgHdF5u6hzhu4eNUqw+um5Xfy+t1KNEqx+em6XeEfK4C/cCs0aLTvQLyBYR/TcLuoZh++tVLtuvc5Lfs8aRbC0PBy169brvOT3LIJVg5f8nkWwaqh1t/YngGAVWy6Xap1gHUewyqSnSHh79AkEq0ycXS0WC94efQLBKqN2HU6RTAzBKuB3qWB6CFYBv0sF00Owcq3X69DmfD5nHDyLYOWKX4F+f3+vIhxHsLKks6unpyeV4ripBSvckqp2h2s5PcugIpw0qWBZqj5//qxG97SimZrjLEO2SQUr7lcirWhjeVVzw/2pk9dzS8UHqpbLpYpqPT8/x1tZUlrdJs2rinBOzy2VRqElWzazTkfA29tbfRoiB4+Pj2prNru7u1NpCWthvndRLwTsGSybr9hcWJ02m202G60okd5rYMIlPC00BMuGP4uCWnmhdRlCmFTtxUU9hNgzWMZCEA/ibm5uVJrn1fCX7hJU1BCsw+na2d2V/T2W8sM8RXU7vA+qc7CM7ai04Wez9Xqt0nNeDX+v7jVQ6clgvblPcnKBX6TdP1gmntS2ns7pgDeHP63b04qTwfJO1QWGKTWKYG232zj0nB4vTgx/Ka0+Gaw338XQ6Njfc4FGESzz69cvdc6RAfFwOny4o4r0Ew1zLDQa0aa3yXtIw+GA+GrsMydSZfRDBKufEW16GxDjfDwOiIdT7JzhRj9KsPoZ16a3xCgRs5nlzErSw/7Te6mUKhCsfka36eNprYf9ixjDZ1N0kKU6BKuf0W36uNOyhNli+GzC2kyqQ7D6Gd2mf35+jhenN5tN/KzVeWIt3hHayxj/T8fDQ/sQzjaVXgyJ57ou6vLcqIwxWOlFHhUVstmY6jMadjLS7a5QNMRC9QlWJyPd7uk0S0WF6iZnGMpIt3u8Wa/0XpqobnKGoYw0WO3TLPQ13m5TrGYz7hf4iMYbrDhJCrgj5WMZb7AO75fipNQHMuoZzKtsMRP/QJgawwXBgguCBRcECy4IFlwQLLggWHBBsOCCYMEFwYILggUXBAsuCBZcECy4IFhwQbDggmDBBcGCC4IFFwQLLggWXBAsuCBYcEGw4IJgwQXBgguCBRcECy4IFlwQLDj49+8/cdVXSYdkRnEAAAAASUVORK5CYII='}"
      ]
     },
     "execution_count": 15,
     "metadata": {},
     "output_type": "execute_result"
    }
   ],
   "source": [
    "json_data"
   ]
  },
  {
   "cell_type": "code",
   "execution_count": 16,
   "metadata": {},
   "outputs": [
    {
     "data": {
      "text/plain": [
       "<Response [200]>"
      ]
     },
     "execution_count": 16,
     "metadata": {},
     "output_type": "execute_result"
    }
   ],
   "source": [
    "requests.post(url, json=json_data, headers={'Content-Type': 'application/json; charset=utf-8'})"
   ]
  }
 ],
 "metadata": {
  "kernelspec": {
   "display_name": "capstone",
   "language": "python",
   "name": "python3"
  },
  "language_info": {
   "codemirror_mode": {
    "name": "ipython",
    "version": 3
   },
   "file_extension": ".py",
   "mimetype": "text/x-python",
   "name": "python",
   "nbconvert_exporter": "python",
   "pygments_lexer": "ipython3",
   "version": "3.9.16"
  },
  "orig_nbformat": 4
 },
 "nbformat": 4,
 "nbformat_minor": 2
}
