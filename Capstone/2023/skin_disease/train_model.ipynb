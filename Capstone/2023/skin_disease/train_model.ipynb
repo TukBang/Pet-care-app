{
 "cells": [
  {
   "cell_type": "code",
   "execution_count": 1,
   "metadata": {},
   "outputs": [
    {
     "name": "stdout",
     "output_type": "stream",
     "text": [
      "DATA TYPE: train\n",
      "\n",
      "original data folder\n",
      "['A1', 'A2', 'A3', 'A4', 'A5']\n",
      "\n",
      "RoI data folder\n",
      "['A1', 'A2', 'A3', 'A4', 'A5', 'A6']\n",
      "\n",
      "background_RoI data folder\n",
      "['A1', 'A2', 'A3', 'A4', 'A5']\n",
      "\n",
      "box data folder\n",
      "['A1', 'A2', 'A3', 'A4', 'A5', 'A6']\n",
      "\n",
      "crop data folder\n",
      "['A1', 'A2', 'A3', 'A4', 'A5', 'A6']\n",
      "\n",
      "ratio_zero-padding data folder\n",
      "['A1', 'A2', 'A3', 'A4', 'A5', 'A6']\n",
      "\n",
      "RZ_LANCZOS4 data folder\n",
      "['A1', 'A2', 'A3', 'A4', 'A5', 'A6']\n",
      "\n"
     ]
    }
   ],
   "source": [
    "# default\n",
    "from pprint import pprint\n",
    "import natsort\n",
    "import os\n",
    "import pickle as pkl\n",
    "\n",
    "# data structure\n",
    "import numpy as np\n",
    "from PIL import Image\n",
    "\n",
    "# visualize\n",
    "import pandas as pd\n",
    "import matplotlib.pyplot as plt\n",
    "import seaborn as sns\n",
    "\n",
    "# Deep Learning\n",
    "import torch\n",
    "import torch.optim as optim\n",
    "from torch import nn\n",
    "from torch.utils.data import Dataset, DataLoader\n",
    "from torchinfo import summary\n",
    "\n",
    "from torchvision import transforms\n",
    "from torchvision import models\n",
    "from torchvision.models import resnet50\n",
    "from torchvision.models import efficientnet_v2_s, efficientnet_v2_m, efficientnet_v2_l\n",
    "\n",
    "from sklearn.model_selection import train_test_split\n",
    "from sklearn.metrics import accuracy_score, classification_report\n",
    "\n",
    "import module.image_preprocessing as ipp\n",
    "import module.skin_disease_model as sdm\n",
    "from module.data_processing import mkadir\n",
    "\n",
    "TRAIN = 0\n",
    "VALID = 1\n",
    "data_type = [\"train\", \"valid\"]\n",
    "dt = data_type[TRAIN]\n",
    "\n",
    "project_path = \"E:/Tukorea/Capstone/\"\n",
    "original_data_path = os.path.join(project_path, \"dataset/\", \"original/\", f\"{dt}/\")\n",
    "RoI_data_path = os.path.join(project_path, \"dataset/\", \"RoI/\", f\"{dt}/\")\n",
    "background_RoI_data_path = os.path.join(project_path, \"dataset/\", \"background_RoI/\", f\"{dt}/\")\n",
    "box_data_path = os.path.join(project_path, \"dataset/\", \"box/256x256/\", f\"{dt}/\")\n",
    "crop_data_path = os.path.join(project_path, \"dataset/\", \"crop/\", f\"{dt}/\")\n",
    "RZ_data_path = os.path.join(project_path, \"dataset/\", \"ratio_zero-padding/\", f\"{dt}/\")\n",
    "RZ_LANCZOS4_data_path = os.path.join(project_path, \"dataset/\", \"RZ_LANCZOS4/\", f\"{dt}/\")\n",
    "\n",
    "data_path_namelist = [\"original\", \"RoI\", \"background_RoI\", \"box\", \"crop\", \"ratio_zero-padding\", \"RZ_LANCZOS4\"]\n",
    "data_path_list = [original_data_path, RoI_data_path, background_RoI_data_path, box_data_path, crop_data_path, RZ_data_path, RZ_LANCZOS4_data_path]\n",
    "\n",
    "print(\"DATA TYPE:\", dt, end=\"\\n\\n\")\n",
    "for i, data_path in enumerate(data_path_list):\n",
    "    print(data_path_namelist[i] + \" data folder\")\n",
    "    folder = natsort.natsorted(os.listdir(data_path))\n",
    "    print(folder, end=\"\\n\\n\")"
   ]
  },
  {
   "attachments": {},
   "cell_type": "markdown",
   "metadata": {},
   "source": [
    "---\n",
    "# Scenario 1"
   ]
  },
  {
   "cell_type": "code",
   "execution_count": 3,
   "metadata": {},
   "outputs": [
    {
     "name": "stdout",
     "output_type": "stream",
     "text": [
      "train_x length:  53430\n",
      "train_x type:  <class 'list'>\n",
      "train_y length:  (53430,)\n",
      "train_y type:  <class 'numpy.ndarray'>\n",
      "valid_x length:  6645\n",
      "valid_x type:  <class 'list'>\n",
      "valid_y length:  (6645,)\n",
      "valid_y type:  <class 'numpy.ndarray'>\n"
     ]
    }
   ],
   "source": [
    "dataset_path = \"/\".join(RZ_LANCZOS4_data_path.split(\"/\")[:-1]) + \"/\"\n",
    "\n",
    "# 이미지 불러오기\n",
    "with open(os.path.join(dataset_path, \"224x224_train_data.pkl\"), \"rb\") as pkl_file:\n",
    "  train_x, train_y = pkl.load(pkl_file)\n",
    "\n",
    "with open(os.path.join(dataset_path, \"224x224_valid_data.pkl\"), \"rb\") as pkl_file:\n",
    "  valid_x, valid_y = pkl.load(pkl_file)\n",
    "\n",
    "print(\"train_x length: \", len(train_x))\n",
    "print(\"train_x type: \", type(train_x))\n",
    "print(\"train_y length: \", train_y.shape)\n",
    "print(\"train_y type: \", type(train_y))\n",
    "print(\"valid_x length: \", len(valid_x))\n",
    "print(\"valid_x type: \", type(valid_x))\n",
    "print(\"valid_y length: \", valid_y.shape)\n",
    "print(\"valid_y type: \", type(valid_y))"
   ]
  },
  {
   "attachments": {},
   "cell_type": "markdown",
   "metadata": {},
   "source": [
    "---\n",
    "# Scenario 2 (Class 분할)"
   ]
  },
  {
   "cell_type": "code",
   "execution_count": null,
   "metadata": {},
   "outputs": [],
   "source": [
    "# y를 통해서 입력된 숫자대로 클래스를 나누어 리스트로 반환한다.\n",
    "def split_label(x, y, label_num):\n",
    "    u, c = np.unique(y, return_counts=True)\n",
    "\n",
    "    labels = list()\n",
    "    \n",
    "    prev_loc = 0\n",
    "    end_loc = 0\n",
    "    for i, loc in enumerate(c):\n",
    "        end_loc += loc\n",
    "\n",
    "        if (i + 1) % label_num == 0:\n",
    "            labels.append((x[prev_loc:end_loc].copy(), y[prev_loc:end_loc].copy()))\n",
    "            prev_loc = end_loc\n",
    "\n",
    "    if prev_loc != end_loc:\n",
    "        labels.append((x[prev_loc:end_loc].copy(), y[prev_loc:end_loc].copy()))\n",
    "\n",
    "    return labels"
   ]
  },
  {
   "cell_type": "code",
   "execution_count": null,
   "metadata": {},
   "outputs": [],
   "source": [
    "sltrain = split_label(train_x, train_y, 3)\n",
    "slvalid = split_label(valid_x, valid_y, 3)"
   ]
  },
  {
   "cell_type": "code",
   "execution_count": null,
   "metadata": {},
   "outputs": [
    {
     "name": "stdout",
     "output_type": "stream",
     "text": [
      "[0 1 2] [ 8730 10762 10539]\n",
      "[0 1 2] [1087 1331 1317]\n"
     ]
    }
   ],
   "source": [
    "DATA = 0\n",
    "LABEL = 1\n",
    "ORDER = 0\n",
    "\n",
    "split_train_x = sltrain[ORDER][DATA]\n",
    "split_train_y = sltrain[ORDER][LABEL]\n",
    "split_valid_x = slvalid[ORDER][DATA]\n",
    "split_valid_y = slvalid[ORDER][LABEL]\n",
    "\n",
    "tu, tc = np.unique(split_train_y, return_counts=True)\n",
    "vu, vc = np.unique(split_valid_y, return_counts=True)\n",
    "\n",
    "print(tu, tc)\n",
    "print(vu, vc)"
   ]
  },
  {
   "cell_type": "code",
   "execution_count": null,
   "metadata": {},
   "outputs": [],
   "source": [
    "split_train_y[split_train_y == 3] = 0\n",
    "split_train_y[split_train_y == 4] = 1\n",
    "split_train_y[split_train_y == 5] = 2"
   ]
  },
  {
   "cell_type": "code",
   "execution_count": null,
   "metadata": {},
   "outputs": [],
   "source": [
    "split_valid_y[split_valid_y == 3] = 0\n",
    "split_valid_y[split_valid_y == 4] = 1\n",
    "split_valid_y[split_valid_y == 5] = 2"
   ]
  },
  {
   "cell_type": "code",
   "execution_count": null,
   "metadata": {},
   "outputs": [
    {
     "name": "stdout",
     "output_type": "stream",
     "text": [
      "[0 1 2]\n",
      "[0 1 2]\n"
     ]
    }
   ],
   "source": [
    "print(np.unique(split_train_y))\n",
    "print(np.unique(split_valid_y))"
   ]
  },
  {
   "cell_type": "code",
   "execution_count": null,
   "metadata": {},
   "outputs": [],
   "source": [
    "del train_x, valid_x, train_y, valid_y\n",
    "del sltrain, slvalid"
   ]
  },
  {
   "attachments": {},
   "cell_type": "markdown",
   "metadata": {},
   "source": [
    "---\n",
    "# Scenario 3 (보간법)"
   ]
  },
  {
   "cell_type": "code",
   "execution_count": 4,
   "metadata": {},
   "outputs": [],
   "source": [
    "# fname = \"10-130\"\n",
    "# dataset_path = \"/\".join(RZ_LANCZOS4_data_path.split(\"/\")[:-1]) + f\"/{fname}/\"\n",
    "# fname = \"131-391\"\n",
    "# dataset_path = \"/\".join(RZ_LANCZOS4_data_path.split(\"/\")[:-1]) + \"/131-391/\"\n",
    "fname = \"392-\"\n",
    "dataset_path = \"/\".join(RZ_LANCZOS4_data_path.split(\"/\")[:-1]) + \"/392-/\""
   ]
  },
  {
   "cell_type": "code",
   "execution_count": 5,
   "metadata": {},
   "outputs": [
    {
     "name": "stdout",
     "output_type": "stream",
     "text": [
      "train_x length:  6380\n",
      "train_x type:  <class 'list'>\n",
      "train_y length:  (6380,)\n",
      "train_y type:  <class 'numpy.ndarray'>\n",
      "valid_x length:  950\n",
      "valid_x type:  <class 'list'>\n",
      "valid_y length:  (950,)\n",
      "valid_y type:  <class 'numpy.ndarray'>\n"
     ]
    }
   ],
   "source": [
    "# 이미지 불러오기\n",
    "with open(os.path.join(dataset_path, f\"{fname}_train_data.pkl\"), \"rb\") as pkl_file:\n",
    "  train_x, train_y = pkl.load(pkl_file)\n",
    "\n",
    "with open(os.path.join(dataset_path, f\"{fname}_valid_data.pkl\"), \"rb\") as pkl_file:\n",
    "  valid_x, valid_y = pkl.load(pkl_file)\n",
    "\n",
    "print(\"train_x length: \", len(train_x))\n",
    "print(\"train_x type: \", type(train_x))\n",
    "print(\"train_y length: \", train_y.shape)\n",
    "print(\"train_y type: \", type(train_y))\n",
    "print(\"valid_x length: \", len(valid_x))\n",
    "print(\"valid_x type: \", type(valid_x))\n",
    "print(\"valid_y length: \", valid_y.shape)\n",
    "print(\"valid_y type: \", type(valid_y))"
   ]
  },
  {
   "attachments": {},
   "cell_type": "markdown",
   "metadata": {},
   "source": [
    "---\n",
    "# Scenario 4 (Multi-scaling + Data Augmenation)"
   ]
  },
  {
   "cell_type": "code",
   "execution_count": null,
   "metadata": {},
   "outputs": [],
   "source": [
    "# Load Train Data\n",
    "csv_data_path = os.path.join(project_path, \"dataset/\", \"csv_file/\", f\"{dt}/\")\n",
    "print(csv_data_path)\n",
    "\n",
    "csv_data = None\n",
    "for i, csv_file in enumerate(natsort.natsorted(os.listdir(csv_data_path))):\n",
    "    temp_csv = pd.read_csv(csv_data_path + csv_file)\n",
    "    temp_csv[\"Y\"] = i\n",
    "    if (isinstance(csv_data, type(None))): csv_data = temp_csv\n",
    "    else:                                  csv_data = pd.concat([csv_data, temp_csv], ignore_index=True)\n",
    "    \n",
    "# exist가 Y인 행만 가져온다. (= 이미지가 존재하는 행만 가져온다.)\n",
    "csv_data = csv_data.loc[csv_data[\"exist\"] == \"Y\"]\n",
    "\n",
    "# 관심영역의 높이와 폭이 10보다 작다면 제거한다.\n",
    "csv_data = ipp.get_RoI_range_csv(1920, csv_data)\n",
    "\n",
    "# lesions error 잡기\n",
    "csv_data[\"lesions\"].loc[csv_data[\"lesions\"] == \" A5\"] = \"A5\"\n",
    "\n",
    "# y 불러오기\n",
    "train_y = np.array(csv_data[\"Y\"])"
   ]
  },
  {
   "cell_type": "code",
   "execution_count": 3,
   "metadata": {},
   "outputs": [
    {
     "name": "stdout",
     "output_type": "stream",
     "text": [
      "[valid_60p.pkl]\n",
      "valid_x length:  6645\n",
      "valid_x type:  <class 'list'>\n",
      "valid_y length:  (6645,)\n",
      "valid_y type:  <class 'numpy.ndarray'>\n",
      "\n",
      "[valid_70p.pkl]\n",
      "valid_x length:  6645\n",
      "valid_x type:  <class 'list'>\n",
      "valid_y length:  (6645,)\n",
      "valid_y type:  <class 'numpy.ndarray'>\n",
      "\n",
      "[valid_80p.pkl]\n",
      "valid_x length:  6645\n",
      "valid_x type:  <class 'list'>\n",
      "valid_y length:  (6645,)\n",
      "valid_y type:  <class 'numpy.ndarray'>\n",
      "\n",
      "[valid_90p.pkl]\n",
      "valid_x length:  6645\n",
      "valid_x type:  <class 'list'>\n",
      "valid_y length:  (6645,)\n",
      "valid_y type:  <class 'numpy.ndarray'>\n",
      "\n"
     ]
    }
   ],
   "source": [
    "# Load Validation Data\n",
    "dataset_path = \"/\".join(background_RoI_data_path.split(\"/\")[:-2]) + \"/\"\n",
    "\n",
    "# 이미지 불러오기\n",
    "valid_x_list = list()\n",
    "valid_y_list = list()\n",
    "for dir in natsort.natsorted(os.listdir(dataset_path)):\n",
    "    if \".pkl\" in dir:\n",
    "        with open(os.path.join(dataset_path, dir), \"rb\") as pkl_file:\n",
    "            valid_x, valid_y = pkl.load(pkl_file)\n",
    "        valid_x_list.append(valid_x)\n",
    "        valid_y_list.append(valid_y)\n",
    "\n",
    "        print(f\"[{dir}]\")\n",
    "        print(\"valid_x length: \", len(valid_x))\n",
    "        print(\"valid_x type: \", type(valid_x))\n",
    "        print(\"valid_y length: \", valid_y.shape)\n",
    "        print(\"valid_y type: \", type(valid_y), end=\"\\n\\n\")"
   ]
  },
  {
   "attachments": {},
   "cell_type": "markdown",
   "metadata": {},
   "source": [
    "---\n",
    "# Scenario 5 (Multi-scaling + Data Augumentaion) ver. 2"
   ]
  },
  {
   "cell_type": "code",
   "execution_count": null,
   "metadata": {},
   "outputs": [],
   "source": [
    "# Load Train Data\n",
    "csv_data_path = os.path.join(project_path, \"dataset/\", \"csv_file/\", f\"{dt}/\")\n",
    "print(csv_data_path)\n",
    "\n",
    "csv_data = None\n",
    "for i, csv_file in enumerate(natsort.natsorted(os.listdir(csv_data_path))):\n",
    "    temp_csv = pd.read_csv(csv_data_path + csv_file)\n",
    "    temp_csv[\"Y\"] = i\n",
    "    if (isinstance(csv_data, type(None))): csv_data = temp_csv\n",
    "    else:                                  csv_data = pd.concat([csv_data, temp_csv], ignore_index=True)\n",
    "    \n",
    "# exist가 Y인 행만 가져온다. (= 이미지가 존재하는 행만 가져온다.)\n",
    "csv_data = csv_data.loc[csv_data[\"exist\"] == \"Y\"]\n",
    "\n",
    "# 관심영역의 높이와 폭이 10보다 작다면 제거한다.\n",
    "csv_data = ipp.get_RoI_range_csv(1920, csv_data)\n",
    "\n",
    "# lesions error 잡기\n",
    "csv_data[\"lesions\"].loc[csv_data[\"lesions\"] == \" A5\"] = \"A5\""
   ]
  },
  {
   "cell_type": "code",
   "execution_count": 3,
   "metadata": {},
   "outputs": [],
   "source": [
    "csv_data.drop(axis=0, index=csv_data.loc[csv_data[\"Y\"] == 1].index, inplace=True)\n",
    "csv_data.loc[csv_data.loc[csv_data[\"Y\"] == 2].index, \"Y\"] = 1\n",
    "csv_data.loc[csv_data.loc[csv_data[\"Y\"] == 3].index, \"Y\"] = 2\n",
    "csv_data.loc[csv_data.loc[csv_data[\"Y\"] == 4].index, \"Y\"] = 3\n",
    "csv_data.loc[csv_data.loc[csv_data[\"Y\"] == 5].index, \"Y\"] = 4\n",
    "\n",
    "# y 불러오기\n",
    "train_y = np.array(csv_data[\"Y\"])"
   ]
  },
  {
   "cell_type": "code",
   "execution_count": 4,
   "metadata": {},
   "outputs": [
    {
     "name": "stdout",
     "output_type": "stream",
     "text": [
      "[valid_40p.pkl]\n",
      "valid_x length:  5314\n",
      "valid_x type:  <class 'list'>\n",
      "valid_y length:  (5314,)\n",
      "valid_y type:  <class 'numpy.ndarray'>\n",
      "\n",
      "[valid_50p.pkl]\n",
      "valid_x length:  5314\n",
      "valid_x type:  <class 'list'>\n",
      "valid_y length:  (5314,)\n",
      "valid_y type:  <class 'numpy.ndarray'>\n",
      "\n",
      "[valid_60p.pkl]\n",
      "valid_x length:  5314\n",
      "valid_x type:  <class 'list'>\n",
      "valid_y length:  (5314,)\n",
      "valid_y type:  <class 'numpy.ndarray'>\n",
      "\n",
      "[valid_70p.pkl]\n",
      "valid_x length:  5314\n",
      "valid_x type:  <class 'list'>\n",
      "valid_y length:  (5314,)\n",
      "valid_y type:  <class 'numpy.ndarray'>\n",
      "\n",
      "[valid_80p.pkl]\n",
      "valid_x length:  5314\n",
      "valid_x type:  <class 'list'>\n",
      "valid_y length:  (5314,)\n",
      "valid_y type:  <class 'numpy.ndarray'>\n",
      "\n"
     ]
    }
   ],
   "source": [
    "# Load Validation Data\n",
    "dataset_path = \"/\".join(background_RoI_data_path.split(\"/\")[:-2]) + \"/\"\n",
    "\n",
    "# 이미지 불러오기\n",
    "valid_x_list = list()\n",
    "valid_y_list = list()\n",
    "for dir in natsort.natsorted(os.listdir(dataset_path)):\n",
    "    if \".pkl\" in dir:\n",
    "        with open(os.path.join(dataset_path, dir), \"rb\") as pkl_file:\n",
    "            valid_x, valid_y = pkl.load(pkl_file)\n",
    "        valid_x_list.append(valid_x)\n",
    "        valid_y_list.append(valid_y)\n",
    "\n",
    "        print(f\"[{dir}]\")\n",
    "        print(\"valid_x length: \", len(valid_x))\n",
    "        print(\"valid_x type: \", type(valid_x))\n",
    "        print(\"valid_y length: \", valid_y.shape)\n",
    "        print(\"valid_y type: \", type(valid_y), end=\"\\n\\n\")"
   ]
  },
  {
   "attachments": {},
   "cell_type": "markdown",
   "metadata": {},
   "source": [
    "---\n",
    "# DeepLearning with PyTorch"
   ]
  },
  {
   "attachments": {},
   "cell_type": "markdown",
   "metadata": {},
   "source": [
    "---\n",
    "## Scenario 1 ~ 3 Transforms and dataset"
   ]
  },
  {
   "cell_type": "code",
   "execution_count": 38,
   "metadata": {},
   "outputs": [],
   "source": [
    "train_transforms = transforms.Compose([\n",
    "    transforms.RandomHorizontalFlip(p=0.5),\n",
    "    transforms.RandomVerticalFlip(p=0.5),\n",
    "    transforms.ToTensor(),\n",
    "    transforms.Normalize([0.5, 0.5, 0.5], [0.5, 0.5, 0.5])\n",
    "])\n",
    "\n",
    "test_transforms = transforms.Compose([\n",
    "    transforms.ToTensor(),\n",
    "    transforms.Normalize([0.5, 0.5, 0.5], [0.5, 0.5, 0.5])\n",
    "])"
   ]
  },
  {
   "cell_type": "code",
   "execution_count": null,
   "metadata": {},
   "outputs": [],
   "source": [
    "train_dataset = sdm.Skin_Disease_Dataset(train_x, train_y, train_transforms)\n",
    "valid_dataset = sdm.Skin_Disease_Dataset(valid_x, valid_y, test_transforms)\n",
    "train_data_loader = DataLoader(train_dataset, batch_size=128, shuffle=True)\n",
    "valid_data_loader = DataLoader(valid_dataset, batch_size=128, shuffle=True)"
   ]
  },
  {
   "attachments": {},
   "cell_type": "markdown",
   "metadata": {},
   "source": [
    "---\n",
    "## Scenario 4 Transforms"
   ]
  },
  {
   "cell_type": "code",
   "execution_count": 7,
   "metadata": {},
   "outputs": [],
   "source": [
    "train_transforms = transforms.Compose([\n",
    "    transforms.Resize(size=(224, 224), interpolation=transforms.InterpolationMode.LANCZOS),\n",
    "    transforms.RandomHorizontalFlip(p=0.5),\n",
    "    transforms.RandomVerticalFlip(p=0.5),\n",
    "    transforms.ToTensor(),\n",
    "    transforms.Normalize([0.485, 0.456, 0.406], [0.229, 0.224, 0.225])\n",
    "])\n",
    "\n",
    "test_transforms = transforms.Compose([\n",
    "    transforms.Resize(size=(224, 224), interpolation=transforms.InterpolationMode.LANCZOS),\n",
    "    transforms.ToTensor(),\n",
    "    transforms.Normalize([0.485, 0.456, 0.406], [0.229, 0.224, 0.225])\n",
    "])"
   ]
  },
  {
   "cell_type": "code",
   "execution_count": 8,
   "metadata": {},
   "outputs": [],
   "source": [
    "train_dataset = sdm.Skin_Disease_Dataset2(csv_data, train_y, train_transforms, original_data_path)\n",
    "valid_dataset = sdm.Skin_Disease_Dataset(valid_x_list, valid_y_list, test_transforms)\n",
    "train_data_loader = DataLoader(train_dataset, batch_size=128, shuffle=True)\n",
    "valid_data_loader = DataLoader(valid_dataset, batch_size=128, shuffle=True)"
   ]
  },
  {
   "attachments": {},
   "cell_type": "markdown",
   "metadata": {},
   "source": [
    "---\n",
    "## Scenario 5 Transforms"
   ]
  },
  {
   "cell_type": "code",
   "execution_count": 5,
   "metadata": {},
   "outputs": [],
   "source": [
    "train_transforms = transforms.Compose([\n",
    "    transforms.Resize(size=(224, 224), interpolation=transforms.InterpolationMode.LANCZOS),\n",
    "    transforms.RandomHorizontalFlip(p=0.5),\n",
    "    transforms.RandomVerticalFlip(p=0.5),\n",
    "    transforms.ToTensor(),\n",
    "    transforms.Normalize([0.485, 0.456, 0.406], [0.229, 0.224, 0.225])\n",
    "])\n",
    "\n",
    "test_transforms = transforms.Compose([\n",
    "    transforms.Resize(size=(224, 224), interpolation=transforms.InterpolationMode.LANCZOS),\n",
    "    transforms.ToTensor(),\n",
    "    transforms.Normalize([0.485, 0.456, 0.406], [0.229, 0.224, 0.225])\n",
    "])"
   ]
  },
  {
   "cell_type": "code",
   "execution_count": 6,
   "metadata": {},
   "outputs": [],
   "source": [
    "train_dataset = sdm.Skin_Disease_Dataset3(csv_data, train_y, train_transforms, original_data_path)\n",
    "valid_dataset = sdm.Skin_Disease_Dataset(valid_x_list, valid_y_list, test_transforms)\n",
    "train_data_loader = DataLoader(train_dataset, batch_size=128, shuffle=True)\n",
    "valid_data_loader = DataLoader(valid_dataset, batch_size=128, shuffle=True)"
   ]
  },
  {
   "attachments": {},
   "cell_type": "markdown",
   "metadata": {},
   "source": [
    "# Model"
   ]
  },
  {
   "cell_type": "code",
   "execution_count": 8,
   "metadata": {},
   "outputs": [
    {
     "name": "stdout",
     "output_type": "stream",
     "text": [
      "==============================================================================================================\n",
      "Layer (type:depth-idx)                                       Output Shape              Param #\n",
      "==============================================================================================================\n",
      "Skin_Distinction_Model                                       [1, 5]                    --\n",
      "├─EfficientNet: 1-1                                          [1, 1000]                 --\n",
      "│    └─Sequential: 2-1                                       [1, 1280, 7, 7]           --\n",
      "│    │    └─Conv2dNormActivation: 3-1                        [1, 24, 112, 112]         696\n",
      "│    │    └─Sequential: 3-2                                  [1, 24, 112, 112]         10,464\n",
      "│    │    └─Sequential: 3-3                                  [1, 48, 56, 56]           303,552\n",
      "│    │    └─Sequential: 3-4                                  [1, 64, 28, 28]           589,184\n",
      "│    │    └─Sequential: 3-5                                  [1, 128, 14, 14]          917,680\n",
      "│    │    └─Sequential: 3-6                                  [1, 160, 14, 14]          3,463,840\n",
      "│    │    └─Sequential: 3-7                                  [1, 256, 7, 7]            14,561,832\n",
      "│    │    └─Conv2dNormActivation: 3-8                        [1, 1280, 7, 7]           330,240\n",
      "│    └─AdaptiveAvgPool2d: 2-2                                [1, 1280, 1, 1]           --\n",
      "│    └─Sequential: 2-3                                       [1, 1000]                 --\n",
      "│    │    └─Dropout: 3-9                                     [1, 1280]                 --\n",
      "│    │    └─Linear: 3-10                                     [1, 1000]                 1,281,000\n",
      "├─Linear: 1-2                                                [1, 5]                    5,005\n",
      "==============================================================================================================\n",
      "Total params: 21,463,493\n",
      "Trainable params: 21,463,493\n",
      "Non-trainable params: 0\n",
      "Total mult-adds (G): 2.85\n",
      "==============================================================================================================\n",
      "Input size (MB): 0.60\n",
      "Forward/backward pass size (MB): 194.82\n",
      "Params size (MB): 85.85\n",
      "Estimated Total Size (MB): 281.28\n",
      "==============================================================================================================\n"
     ]
    }
   ],
   "source": [
    "model_path = os.path.join(project_path, \"model/\", \"2023-06-21/\")\n",
    "mkadir(model_path)\n",
    "\n",
    "device = torch.device(\"cuda\" if torch.cuda.is_available() else \"cpu\")\n",
    "model = sdm.Skin_Distinction_Model(model=efficientnet_v2_s(weights=\"DEFAULT\"),\n",
    "                                   out_features=5,\n",
    "                                   device=device,\n",
    "                                   save_path=model_path).to(device)\n",
    "\n",
    "pprint(summary(model, input_size=(1, 3, 224, 224), verbose=0))"
   ]
  },
  {
   "cell_type": "code",
   "execution_count": 9,
   "metadata": {},
   "outputs": [],
   "source": [
    "# 0.000213388\n",
    "# optimizer = optim.SGD(model.parameters(), lr=7.5e-7, momentum=0.999, weight_decay=1e-5, nesterov=True)\n",
    "\n",
    "optimizer = optim.Adam(model.parameters(), lr=1e-4)\n",
    "criterion = nn.CrossEntropyLoss().to(device)\n",
    "epochs = 50"
   ]
  },
  {
   "cell_type": "code",
   "execution_count": 10,
   "metadata": {},
   "outputs": [
    {
     "name": "stdout",
     "output_type": "stream",
     "text": [
      "cuda\n"
     ]
    }
   ],
   "source": [
    "print(device)\n",
    "parameters = {\n",
    "    'Train_DataLoader' : train_data_loader,\n",
    "    'Valid_DataLoader' : valid_data_loader,\n",
    "    'Optimizer'        : optimizer,\n",
    "    'Loss_function'    : criterion,\n",
    "    'Epochs'           : epochs\n",
    "}"
   ]
  },
  {
   "cell_type": "code",
   "execution_count": 11,
   "metadata": {},
   "outputs": [
    {
     "data": {
      "text/plain": [
       "'E:/Tukorea/Capstone/model/2023-06-21/'"
      ]
     },
     "execution_count": 11,
     "metadata": {},
     "output_type": "execute_result"
    }
   ],
   "source": [
    "model_path"
   ]
  },
  {
   "cell_type": "code",
   "execution_count": 12,
   "metadata": {},
   "outputs": [
    {
     "data": {
      "text/plain": [
       "<All keys matched successfully>"
      ]
     },
     "execution_count": 12,
     "metadata": {},
     "output_type": "execute_result"
    }
   ],
   "source": [
    "# Load model\n",
    "model.load_state_dict(torch.load(os.path.join(\"E:/Tukorea/Capstone/model/2023-06-20/\", \"last_learning.pth\")))"
   ]
  },
  {
   "cell_type": "code",
   "execution_count": null,
   "metadata": {},
   "outputs": [],
   "source": [
    "history = model.fit(parameters)"
   ]
  },
  {
   "attachments": {},
   "cell_type": "markdown",
   "metadata": {},
   "source": [
    "# Evaluate"
   ]
  },
  {
   "cell_type": "code",
   "execution_count": 10,
   "metadata": {},
   "outputs": [
    {
     "name": "stdout",
     "output_type": "stream",
     "text": [
      "Now model path: E:/Tukorea/Capstone/model/2023-06-20/\n"
     ]
    }
   ],
   "source": [
    "print(\"Now model path:\", model_path)"
   ]
  },
  {
   "cell_type": "code",
   "execution_count": 11,
   "metadata": {},
   "outputs": [],
   "source": [
    "# Load history -1\n",
    "with open(os.path.join(\"E:/Tukorea/Capstone/model/2023-05-17/\", \"last_history.pkl\"), \"rb\") as pkl_file:\n",
    "    history1 = pkl.load(pkl_file)"
   ]
  },
  {
   "cell_type": "code",
   "execution_count": 12,
   "metadata": {},
   "outputs": [
    {
     "data": {
      "text/plain": [
       "<All keys matched successfully>"
      ]
     },
     "execution_count": 12,
     "metadata": {},
     "output_type": "execute_result"
    }
   ],
   "source": [
    "# Load history -2\n",
    "with open(os.path.join(model_path, \"last_history.pkl\"), \"rb\") as pkl_file:\n",
    "    history2 = pkl.load(pkl_file)\n",
    "\n",
    "# Load model\n",
    "model.load_state_dict(torch.load(os.path.join(model_path, \"high_acc.pth\")))"
   ]
  },
  {
   "cell_type": "code",
   "execution_count": 14,
   "metadata": {},
   "outputs": [],
   "source": [
    "history = dict()\n",
    "history[\"train_acc\"] = history1[\"train_acc\"] + history2[\"train_acc\"]\n",
    "history[\"train_loss\"] = history1[\"train_loss\"] + history2[\"train_loss\"]\n",
    "history[\"valid_acc\"] = history1[\"valid_acc\"] + history2[\"valid_acc\"]\n",
    "history[\"valid_loss\"] = history1[\"valid_loss\"] + history2[\"valid_loss\"]"
   ]
  },
  {
   "cell_type": "code",
   "execution_count": 15,
   "metadata": {},
   "outputs": [
    {
     "data": {
      "image/png": "[encoded data removed]",
      "text/plain": [
       "<Figure size 1000x400 with 2 Axes>"
      ]
     },
     "metadata": {},
     "output_type": "display_data"
    }
   ],
   "source": [
    "from math import ceil\n",
    "\n",
    "train_loss = history[\"train_loss\"]\n",
    "train_acc = history[\"train_acc\"]\n",
    "valid_loss = history[\"valid_loss\"]\n",
    "valid_acc = history[\"valid_acc\"]\n",
    "epoch = len(history[\"train_loss\"])\n",
    "\n",
    "fig, ax = plt.subplots(1, 2, figsize=(10, 4))\n",
    "ax[0].plot(train_loss, 'b', label=\"training\")\n",
    "ax[0].plot(valid_loss, '--r', label=\"validation\")\n",
    "ax[0].set_xlim((0, epoch))\n",
    "max_y = ceil(max(valid_loss)) if max(train_loss) < max(valid_loss) else ceil(max(train_loss))\n",
    "ax[0].set_ylim((0, max_y))\n",
    "ax[0].legend()\n",
    "ax[0].grid()\n",
    "\n",
    "ax[1].plot(train_acc, 'b', label=\"training\")\n",
    "ax[1].plot(valid_acc, '--r', label=\"validation\")\n",
    "ax[1].set_xlim((0, epoch))\n",
    "ax[1].set_ylim((0, 100))\n",
    "ax[1].legend()\n",
    "ax[1].grid()\n",
    "plt.show()"
   ]
  },
  {
   "cell_type": "code",
   "execution_count": 60,
   "metadata": {},
   "outputs": [],
   "source": [
    "# Scenario 4: 2023-05-21\n",
    "PERCENT10 = -1\n",
    "PERCENT20 = -1\n",
    "PERCENT30 = -1\n",
    "PERCENT40 = -1\n",
    "PERCENT50 = -1\n",
    "PERCENT60 = 0\n",
    "PERCENT70 = 1\n",
    "PERCENT80 = 2\n",
    "PERCENT90 = 3\n",
    "\n",
    "valid_x, valid_y = valid_x_list[PERCENT90], valid_y_list[PERCENT90]"
   ]
  },
  {
   "cell_type": "code",
   "execution_count": 61,
   "metadata": {},
   "outputs": [],
   "source": [
    "# 예측할 때 사용됨\n",
    "def shuffle_data(x, y, seed):\n",
    "    if len(x) != len(y):\n",
    "        print(\"x and y are not same the length.\")\n",
    "        return\n",
    "\n",
    "    order = np.arange(len(y))\n",
    "    np.random.seed(seed)\n",
    "    np.random.shuffle(order)\n",
    "    \n",
    "    new_x = list()\n",
    "    for i in order:\n",
    "        new_x.append(x[i])\n",
    "    \n",
    "    return new_x, y[order], order"
   ]
  },
  {
   "cell_type": "code",
   "execution_count": 62,
   "metadata": {},
   "outputs": [],
   "source": [
    "# train_x, train_y, order = shuffle_data(train_x, train_y, 42)\n",
    "# valid_x, valid_y, order = shuffle_data(valid_x, valid_y, 42)\n",
    "split_valid_x, split_valid_y, order = shuffle_data(valid_x, valid_y, 42)"
   ]
  },
  {
   "cell_type": "code",
   "execution_count": null,
   "metadata": {},
   "outputs": [],
   "source": [
    "with torch.no_grad():\n",
    "    pred, labels = model.predict(valid_x, test_transforms)"
   ]
  },
  {
   "cell_type": "code",
   "execution_count": 64,
   "metadata": {},
   "outputs": [
    {
     "data": {
      "text/plain": [
       "0.6386756960120391"
      ]
     },
     "execution_count": 64,
     "metadata": {},
     "output_type": "execute_result"
    }
   ],
   "source": [
    "accuracy_score(y_true=valid_y, y_pred=labels.cpu())"
   ]
  },
  {
   "cell_type": "code",
   "execution_count": null,
   "metadata": {},
   "outputs": [],
   "source": [
    "from sklearn.metrics import roc_curve, roc_auc_score\n",
    "\n",
    "# 예측값과 레이블 값을 가져옵니다.\n",
    "out_features = 6\n",
    "y_pred = pred.cpu()\n",
    "y_true = valid_y\n",
    "\n",
    "# Softmax 함수를 사용하여 확률값을 계산합니다.\n",
    "y_pred = torch.softmax(y_pred, dim=1)\n",
    "\n",
    "# 각 클래스에 대한 AUC 값을 계산합니다.\n",
    "auc_list = []\n",
    "for i in range(out_features):\n",
    "    auc = roc_auc_score((y_true == i), y_pred[:, i].numpy())\n",
    "    auc_list.append(auc)\n",
    "\n",
    "# AUC 값을 출력합니다.\n",
    "print(\"AUC per class:\", auc_list)\n",
    "\n",
    "# 각 클래스별 FPR과 TPR 값을 구합니다.\n",
    "fpr_list = []\n",
    "tpr_list = []\n",
    "for i in range(out_features):\n",
    "    fpr, tpr, _ = roc_curve((y_true == i), y_pred[:, i].numpy())\n",
    "    fpr_list.append(fpr)\n",
    "    tpr_list.append(tpr)\n",
    "\n",
    "# 모든 클래스에 대한 FPR과 TPR 값을 평균 내어 멀티클래스 AUC 값을 구합니다.\n",
    "mean_fpr = np.unique(np.concatenate(fpr_list))\n",
    "mean_tpr = np.zeros_like(mean_fpr)\n",
    "for i in range(out_features):\n",
    "    mean_tpr += np.interp(mean_fpr, fpr_list[i], tpr_list[i])\n",
    "mean_tpr /= out_features\n",
    "\n",
    "# 멀티클래스 AUC-ROC 커브를 그립니다.\n",
    "plt.plot(mean_fpr, mean_tpr, label='Multi-class ROC curve (AUC = %0.2f)' % np.mean(auc_list))\n",
    "plt.plot([0, 1], [0, 1], 'k--')\n",
    "plt.xlabel('False Positive Rate')\n",
    "plt.ylabel('True Positive Rate')\n",
    "plt.legend(loc='lower right')\n",
    "plt.show()"
   ]
  },
  {
   "cell_type": "code",
   "execution_count": null,
   "metadata": {},
   "outputs": [],
   "source": [
    "from sklearn.metrics import classification_report\n",
    "print(classification_report(y_true=valid_y, y_pred=labels.cpu(), target_names=[\"A1\", \"A2\", \"A3\", \"A4\", \"A5\", \"A6\"]))"
   ]
  },
  {
   "cell_type": "code",
   "execution_count": null,
   "metadata": {},
   "outputs": [],
   "source": []
  }
 ],
 "metadata": {
  "kernelspec": {
   "display_name": "capstone",
   "language": "python",
   "name": "python3"
  },
  "language_info": {
   "codemirror_mode": {
    "name": "ipython",
    "version": 3
   },
   "file_extension": ".py",
   "mimetype": "text/x-python",
   "name": "python",
   "nbconvert_exporter": "python",
   "pygments_lexer": "ipython3",
   "version": "3.9.16"
  },
  "orig_nbformat": 4,
  "vscode": {
   "interpreter": {
    "hash": "88b45362d68994ba274345a2aea736a99aead0de6ce9e063611997e445d73fc1"
   }
  }
 },
 "nbformat": 4,
 "nbformat_minor": 2
}
