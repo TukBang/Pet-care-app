{
 "cells": [
  {
   "cell_type": "code",
   "execution_count": 1,
   "metadata": {},
   "outputs": [
    {
     "name": "stdout",
     "output_type": "stream",
     "text": [
      "DATA TYPE: train\n",
      "\n",
      "original data folder\n",
      "['A1', 'A2', 'A3', 'A4', 'A5', 'A6']\n",
      "\n",
      "RoI data folder\n",
      "['A1', 'A2', 'A3', 'A4', 'A5', 'A6']\n",
      "\n",
      "box data folder\n",
      "there is no directory.\n",
      "crop data folder\n",
      "there is no directory.\n",
      "ratio_zero-padding data folder\n",
      "there is no directory.\n",
      "RZ_LANCZOS4 data folder\n",
      "['A1', 'A2', 'A3', 'A4', 'A5', 'A6']\n",
      "\n"
     ]
    }
   ],
   "source": [
    "# default\n",
    "from pprint import pprint\n",
    "import natsort\n",
    "import os\n",
    "import pickle as pkl\n",
    "\n",
    "# data structure\n",
    "import numpy as np\n",
    "from PIL import Image\n",
    "\n",
    "# visualize\n",
    "import pandas as pd\n",
    "import matplotlib.pyplot as plt\n",
    "import seaborn as sns\n",
    "\n",
    "# Deep Learning\n",
    "import torch\n",
    "import torch.optim as optim\n",
    "from torch import nn\n",
    "from torch.utils.data import Dataset, DataLoader\n",
    "from torchinfo import summary\n",
    "\n",
    "from torchvision import transforms\n",
    "from torchvision import models\n",
    "from torchvision.models import resnet50\n",
    "from torchvision.models import efficientnet_v2_s, efficientnet_v2_m, efficientnet_v2_l\n",
    "\n",
    "from sklearn.model_selection import train_test_split\n",
    "from sklearn.metrics import accuracy_score, classification_report\n",
    "\n",
    "import module.skin_disease_model as sdm\n",
    "from module.data_processing import mkadir\n",
    "\n",
    "TRAIN = 0\n",
    "VALID = 1\n",
    "data_type = [\"train\", \"valid\"]\n",
    "dt = data_type[TRAIN]\n",
    "\n",
    "project_path = \"D:/Capstone/\"\n",
    "original_data_path = os.path.join(project_path, \"dataset/\", \"original/\", dt)\n",
    "RoI_data_path = os.path.join(project_path, \"dataset/\", \"RoI/\", dt)\n",
    "box_data_path = os.path.join(project_path, \"dataset/\", \"box/256x256/\", dt)\n",
    "crop_data_path = os.path.join(project_path, \"dataset/\", \"crop/\", dt)\n",
    "RZ_data_path = os.path.join(project_path, \"dataset/\", \"ratio_zero-padding/\", dt)\n",
    "RZ_LANCZOS4_data_path = os.path.join(project_path, \"dataset/\", \"RZ_LANCZOS4/\", dt)\n",
    "\n",
    "data_path_namelist = [\"original\", \"RoI\", \"box\", \"crop\", \"ratio_zero-padding\", \"RZ_LANCZOS4\"]\n",
    "data_path_list = [original_data_path, RoI_data_path, box_data_path, crop_data_path, RZ_data_path, RZ_LANCZOS4_data_path]\n",
    "\n",
    "print(\"DATA TYPE:\", dt, end=\"\\n\\n\")\n",
    "for i, data_path in enumerate(data_path_list):\n",
    "    print(data_path_namelist[i] + \" data folder\")\n",
    "    try:\n",
    "        folder = natsort.natsorted(os.listdir(data_path))\n",
    "        print(folder, end=\"\\n\\n\")\n",
    "    except:\n",
    "        print(\"there is no directory.\") "
   ]
  },
  {
   "attachments": {},
   "cell_type": "markdown",
   "metadata": {},
   "source": [
    "# Load dataset"
   ]
  },
  {
   "cell_type": "code",
   "execution_count": 2,
   "metadata": {},
   "outputs": [],
   "source": [
    "def shuffle_data(x, y, seed):\n",
    "    if len(x) != len(y):\n",
    "        print(\"x and y are not same the length.\")\n",
    "        return\n",
    "\n",
    "    order = np.arange(len(y))\n",
    "    np.random.seed(seed)\n",
    "    np.random.shuffle(order)\n",
    "    \n",
    "    new_x = list()\n",
    "    for i in order:\n",
    "        new_x.append(x[i])\n",
    "    \n",
    "    return new_x, y[order], order"
   ]
  },
  {
   "cell_type": "code",
   "execution_count": 3,
   "metadata": {},
   "outputs": [
    {
     "name": "stdout",
     "output_type": "stream",
     "text": [
      "train_x length:  53430\n",
      "train_x type:  <class 'list'>\n",
      "train_y length:  (53430,)\n",
      "train_y type:  <class 'numpy.ndarray'>\n",
      "valid_x length:  6645\n",
      "valid_x type:  <class 'list'>\n",
      "valid_y length:  (6645,)\n",
      "valid_y type:  <class 'numpy.ndarray'>\n"
     ]
    }
   ],
   "source": [
    "size = 224\n",
    "dataset_path = \"/\".join(RZ_LANCZOS4_data_path.split(\"/\")[:-1]) + \"/\"\n",
    "\n",
    "# 이미지 불러오기\n",
    "with open(os.path.join(dataset_path, \"224x224_train_data.pkl\"), \"rb\") as pkl_file:\n",
    "  train_x, train_y = pkl.load(pkl_file)\n",
    "\n",
    "with open(os.path.join(dataset_path, \"224x224_valid_data.pkl\"), \"rb\") as pkl_file:\n",
    "  valid_x, valid_y = pkl.load(pkl_file)\n",
    "\n",
    "print(\"train_x length: \", len(train_x))\n",
    "print(\"train_x type: \", type(train_x))\n",
    "print(\"train_y length: \", train_y.shape)\n",
    "print(\"train_y type: \", type(train_y))\n",
    "print(\"valid_x length: \", len(valid_x))\n",
    "print(\"valid_x type: \", type(valid_x))\n",
    "print(\"valid_y length: \", valid_y.shape)\n",
    "print(\"valid_y type: \", type(valid_y))"
   ]
  },
  {
   "cell_type": "code",
   "execution_count": 7,
   "metadata": {},
   "outputs": [],
   "source": [
    "# y를 통해서 입력된 숫자대로 클래스를 나누어 리스트로 반환한다.\n",
    "def split_label(x, y, label_num):\n",
    "    u, c = np.unique(y, return_counts=True)\n",
    "\n",
    "    labels = list()\n",
    "    \n",
    "    prev_loc = 0\n",
    "    end_loc = 0\n",
    "    for i, loc in enumerate(c):\n",
    "        end_loc += loc\n",
    "\n",
    "        if (i + 1) % label_num == 0:\n",
    "            labels.append((x[prev_loc:end_loc].copy(), y[prev_loc:end_loc].copy()))\n",
    "            prev_loc = end_loc\n",
    "\n",
    "    if prev_loc != end_loc:\n",
    "        labels.append((x[prev_loc:end_loc].copy(), y[prev_loc:end_loc].copy()))\n",
    "\n",
    "    return labels"
   ]
  },
  {
   "cell_type": "code",
   "execution_count": 8,
   "metadata": {},
   "outputs": [],
   "source": [
    "sltrain = split_label(train_x, train_y, 3)\n",
    "slvalid = split_label(valid_x, valid_y, 3)"
   ]
  },
  {
   "cell_type": "code",
   "execution_count": 9,
   "metadata": {},
   "outputs": [
    {
     "name": "stdout",
     "output_type": "stream",
     "text": [
      "[3 4 5] [8754 8540 6105]\n",
      "[3 4 5] [1092 1056  762]\n"
     ]
    }
   ],
   "source": [
    "DATA = 0\n",
    "LABEL = 1\n",
    "ORDER = 1\n",
    "\n",
    "split_train_x = sltrain[ORDER][DATA]\n",
    "split_train_y = sltrain[ORDER][LABEL]\n",
    "split_valid_x = slvalid[ORDER][DATA]\n",
    "split_valid_y = slvalid[ORDER][LABEL]\n",
    "\n",
    "tu, tc = np.unique(split_train_y, return_counts=True)\n",
    "vu, vc = np.unique(split_valid_y, return_counts=True)\n",
    "\n",
    "print(tu, tc)\n",
    "print(vu, vc)"
   ]
  },
  {
   "cell_type": "code",
   "execution_count": 10,
   "metadata": {},
   "outputs": [],
   "source": [
    "split_train_y[split_train_y == 3] = 0\n",
    "split_train_y[split_train_y == 4] = 1\n",
    "split_train_y[split_train_y == 5] = 2"
   ]
  },
  {
   "cell_type": "code",
   "execution_count": 11,
   "metadata": {},
   "outputs": [],
   "source": [
    "split_valid_y[split_valid_y == 3] = 0\n",
    "split_valid_y[split_valid_y == 4] = 1\n",
    "split_valid_y[split_valid_y == 5] = 2"
   ]
  },
  {
   "cell_type": "code",
   "execution_count": 12,
   "metadata": {},
   "outputs": [
    {
     "name": "stdout",
     "output_type": "stream",
     "text": [
      "[0 1 2]\n",
      "[0 1 2]\n"
     ]
    }
   ],
   "source": [
    "print(np.unique(split_train_y))\n",
    "print(np.unique(split_valid_y))"
   ]
  },
  {
   "cell_type": "code",
   "execution_count": 7,
   "metadata": {},
   "outputs": [],
   "source": [
    "del train_x, valid_x, train_y, valid_y\n",
    "del sltrain, slvalid"
   ]
  },
  {
   "attachments": {},
   "cell_type": "markdown",
   "metadata": {},
   "source": [
    "# Deep Learning"
   ]
  },
  {
   "cell_type": "code",
   "execution_count": 13,
   "metadata": {},
   "outputs": [],
   "source": [
    "train_transforms = transforms.Compose([\n",
    "    transforms.RandomHorizontalFlip(p=0.5),\n",
    "    transforms.RandomVerticalFlip(p=0.5),\n",
    "    transforms.ToTensor(),\n",
    "    transforms.Normalize([0.5, 0.5, 0.5], [0.5, 0.5, 0.5])\n",
    "])\n",
    "\n",
    "test_transforms = transforms.Compose([\n",
    "    transforms.ToTensor(),\n",
    "    transforms.Normalize([0.5, 0.5, 0.5], [0.5, 0.5, 0.5])\n",
    "])"
   ]
  },
  {
   "cell_type": "code",
   "execution_count": 11,
   "metadata": {},
   "outputs": [],
   "source": [
    "train_dataset = sdm.Skin_Disease_Dataset(train_x, train_y, train_transforms)\n",
    "valid_dataset = sdm.Skin_Disease_Dataset(valid_x, valid_y, test_transforms)\n",
    "train_data_loader = DataLoader(train_dataset, batch_size=64, shuffle=True)\n",
    "valid_data_loader = DataLoader(valid_dataset, batch_size=64, shuffle=True)"
   ]
  },
  {
   "cell_type": "code",
   "execution_count": 14,
   "metadata": {},
   "outputs": [],
   "source": [
    "train_dataset = sdm.Skin_Disease_Dataset(split_train_x, split_train_y, train_transforms)\n",
    "valid_dataset = sdm.Skin_Disease_Dataset(split_valid_x, split_valid_y, test_transforms)\n",
    "train_data_loader = DataLoader(train_dataset, batch_size=64, shuffle=True)\n",
    "valid_data_loader = DataLoader(valid_dataset, batch_size=64, shuffle=True)"
   ]
  },
  {
   "cell_type": "code",
   "execution_count": 15,
   "metadata": {},
   "outputs": [
    {
     "name": "stdout",
     "output_type": "stream",
     "text": [
      "==============================================================================================================\n",
      "Layer (type:depth-idx)                                       Output Shape              Param #\n",
      "==============================================================================================================\n",
      "Skin_Distinction_Model                                       [1, 3]                    --\n",
      "├─EfficientNet: 1-1                                          [1, 1000]                 --\n",
      "│    └─Sequential: 2-1                                       [1, 1280, 7, 7]           --\n",
      "│    │    └─Conv2dNormActivation: 3-1                        [1, 24, 112, 112]         696\n",
      "│    │    └─Sequential: 3-2                                  [1, 24, 112, 112]         10,464\n",
      "│    │    └─Sequential: 3-3                                  [1, 48, 56, 56]           303,552\n",
      "│    │    └─Sequential: 3-4                                  [1, 64, 28, 28]           589,184\n",
      "│    │    └─Sequential: 3-5                                  [1, 128, 14, 14]          917,680\n",
      "│    │    └─Sequential: 3-6                                  [1, 160, 14, 14]          3,463,840\n",
      "│    │    └─Sequential: 3-7                                  [1, 256, 7, 7]            14,561,832\n",
      "│    │    └─Conv2dNormActivation: 3-8                        [1, 1280, 7, 7]           330,240\n",
      "│    └─AdaptiveAvgPool2d: 2-2                                [1, 1280, 1, 1]           --\n",
      "│    └─Sequential: 2-3                                       [1, 1000]                 --\n",
      "│    │    └─Dropout: 3-9                                     [1, 1280]                 --\n",
      "│    │    └─Linear: 3-10                                     [1, 1000]                 1,281,000\n",
      "├─Linear: 1-2                                                [1, 3]                    3,003\n",
      "==============================================================================================================\n",
      "Total params: 21,461,491\n",
      "Trainable params: 21,461,491\n",
      "Non-trainable params: 0\n",
      "Total mult-adds (G): 2.85\n",
      "==============================================================================================================\n",
      "Input size (MB): 0.60\n",
      "Forward/backward pass size (MB): 194.82\n",
      "Params size (MB): 85.85\n",
      "Estimated Total Size (MB): 281.27\n",
      "==============================================================================================================\n"
     ]
    }
   ],
   "source": [
    "model_path = os.path.join(project_path, \"model/\", \"2023-03-22-2/\")\n",
    "mkadir(model_path)\n",
    "\n",
    "device = torch.device(\"cuda\" if torch.cuda.is_available() else \"cpu\")\n",
    "model = sdm.Skin_Distinction_Model(model=efficientnet_v2_s(weights=\"DEFAULT\"),\n",
    "                                   out_features=3,\n",
    "                                   device=device,\n",
    "                                   save_path=model_path).to(device)\n",
    "\n",
    "pprint(summary(model, input_size=(1, 3, 224, 224), verbose=0))"
   ]
  },
  {
   "cell_type": "code",
   "execution_count": 16,
   "metadata": {},
   "outputs": [],
   "source": [
    "# 0.000213388\n",
    "# optimizer = optim.SGD(model.parameters(), lr=7.5e-7, momentum=0.999, weight_decay=1e-5, nesterov=True)\n",
    "\n",
    "optimizer = optim.Adam(model.parameters(), lr=5e-3)\n",
    "criterion = nn.CrossEntropyLoss().to(device)\n",
    "epochs = 100"
   ]
  },
  {
   "cell_type": "code",
   "execution_count": 17,
   "metadata": {},
   "outputs": [
    {
     "name": "stdout",
     "output_type": "stream",
     "text": [
      "cuda\n"
     ]
    }
   ],
   "source": [
    "print(device)\n",
    "parameters = {\n",
    "    'Train_DataLoader' : train_data_loader,\n",
    "    'Valid_DataLoader' : valid_data_loader,\n",
    "    'Optimizer'        : optimizer,\n",
    "    'Loss_function'    : criterion,\n",
    "    'Epochs'           : epochs\n",
    "}"
   ]
  },
  {
   "cell_type": "code",
   "execution_count": 18,
   "metadata": {},
   "outputs": [
    {
     "data": {
      "application/vnd.jupyter.widget-view+json": {
       "model_id": "e656e455e2c94e31894ce6741da540cb",
       "version_major": 2,
       "version_minor": 0
      },
      "text/plain": [
       "  0%|          | 0/100 [00:00<?, ?it/s]"
      ]
     },
     "metadata": {},
     "output_type": "display_data"
    },
    {
     "name": "stdout",
     "output_type": "stream",
     "text": [
      "Epoch: 1/100\n",
      "Train - Loss: 1.019077, Accuracy: 54.48\n",
      "Valid - Loss: 1.042055, Accuracy: 48.25\n",
      "Save model, validation loss: 1.0420545624650044\n",
      "Save model, validation acc: 48.25407608695652\n",
      "0 epoch end lr:  0.005\n",
      "Epoch: 2/100\n",
      "Train - Loss: 0.863834, Accuracy: 62.31\n",
      "Valid - Loss: 1.015747, Accuracy: 54.89\n",
      "Save model, validation loss: 1.0157474823620007\n",
      "Save model, validation acc: 54.886775362318836\n",
      "1 epoch end lr:  0.005\n",
      "Epoch: 3/100\n",
      "Train - Loss: 0.817732, Accuracy: 64.48\n",
      "Valid - Loss: 1.089110, Accuracy: 49.92\n",
      "2 epoch end lr:  0.005\n",
      "Epoch: 4/100\n",
      "Train - Loss: 0.804337, Accuracy: 64.48\n",
      "Valid - Loss: 0.901777, Accuracy: 54.55\n",
      "Save model, validation loss: 0.9017765340597733\n",
      "3 epoch end lr:  0.005\n",
      "Epoch: 5/100\n",
      "Train - Loss: 0.773425, Accuracy: 66.54\n",
      "Valid - Loss: 0.921133, Accuracy: 56.84\n",
      "Save model, validation acc: 56.84103260869565\n",
      "4 epoch end lr:  0.005\n",
      "Epoch: 6/100\n",
      "Train - Loss: 0.762428, Accuracy: 67.22\n",
      "Valid - Loss: 0.986609, Accuracy: 55.29\n",
      "5 epoch end lr:  0.005\n",
      "Epoch: 7/100\n",
      "Train - Loss: 0.746509, Accuracy: 67.58\n",
      "Valid - Loss: 0.858157, Accuracy: 60.23\n",
      "Save model, validation loss: 0.8581565152043882\n",
      "Save model, validation acc: 60.23324275362319\n",
      "6 epoch end lr:  0.005\n",
      "Epoch: 8/100\n",
      "Train - Loss: 0.743254, Accuracy: 67.81\n",
      "Valid - Loss: 0.943365, Accuracy: 57.49\n",
      "7 epoch end lr:  0.005\n",
      "Epoch: 9/100\n",
      "Train - Loss: 0.722631, Accuracy: 68.84\n",
      "Valid - Loss: 1.000836, Accuracy: 53.18\n",
      "8 epoch end lr:  0.005\n",
      "Epoch: 10/100\n",
      "Train - Loss: 0.719508, Accuracy: 69.31\n",
      "Valid - Loss: 0.986932, Accuracy: 57.50\n",
      "9 epoch end lr:  0.005\n",
      "Epoch: 11/100\n",
      "Train - Loss: 0.696071, Accuracy: 70.57\n",
      "Valid - Loss: 0.835641, Accuracy: 58.49\n",
      "Save model, validation loss: 0.8356412778729978\n",
      "10 epoch end lr:  0.005\n",
      "Epoch: 12/100\n",
      "Train - Loss: 0.687231, Accuracy: 70.44\n",
      "Valid - Loss: 0.878591, Accuracy: 59.55\n",
      "11 epoch end lr:  0.005\n",
      "Epoch: 13/100\n",
      "Train - Loss: 0.680326, Accuracy: 70.85\n",
      "Valid - Loss: 0.857898, Accuracy: 60.88\n",
      "Save model, validation acc: 60.8786231884058\n",
      "12 epoch end lr:  0.005\n",
      "Epoch: 14/100\n",
      "Train - Loss: 0.676282, Accuracy: 70.99\n",
      "Valid - Loss: 0.925209, Accuracy: 58.24\n",
      "13 epoch end lr:  0.005\n",
      "Epoch: 15/100\n",
      "Train - Loss: 0.666060, Accuracy: 71.53\n",
      "Valid - Loss: 0.952980, Accuracy: 57.01\n",
      "14 epoch end lr:  0.005\n",
      "Epoch: 16/100\n",
      "Train - Loss: 0.648296, Accuracy: 72.50\n",
      "Valid - Loss: 0.852171, Accuracy: 60.11\n",
      "15 epoch end lr:  0.005\n",
      "Epoch: 17/100\n",
      "Train - Loss: 0.648640, Accuracy: 72.69\n",
      "Valid - Loss: 0.811716, Accuracy: 61.45\n",
      "Save model, validation loss: 0.8117160745289015\n",
      "Save model, validation acc: 61.453804347826086\n",
      "16 epoch end lr:  0.005\n",
      "Epoch: 18/100\n",
      "Train - Loss: 0.637071, Accuracy: 72.76\n",
      "Valid - Loss: 0.831649, Accuracy: 62.21\n",
      "Save model, validation acc: 62.21240942028986\n",
      "17 epoch end lr:  0.005\n",
      "Epoch: 19/100\n",
      "Train - Loss: 0.622172, Accuracy: 73.66\n",
      "Valid - Loss: 1.056327, Accuracy: 57.13\n",
      "18 epoch end lr:  0.005\n",
      "Epoch: 20/100\n",
      "Train - Loss: 0.621159, Accuracy: 74.01\n",
      "Valid - Loss: 0.875841, Accuracy: 61.65\n",
      "19 epoch end lr:  0.005\n",
      "Epoch: 21/100\n",
      "Train - Loss: 0.617523, Accuracy: 74.10\n",
      "Valid - Loss: 0.879101, Accuracy: 60.42\n",
      "20 epoch end lr:  0.005\n",
      "Epoch: 22/100\n",
      "Train - Loss: 0.603594, Accuracy: 74.52\n",
      "Valid - Loss: 0.881624, Accuracy: 61.77\n",
      "21 epoch end lr:  0.005\n",
      "Epoch: 23/100\n",
      "Train - Loss: 0.591231, Accuracy: 75.30\n",
      "Valid - Loss: 0.802577, Accuracy: 61.96\n",
      "Save model, validation loss: 0.8025768036427705\n",
      "22 epoch end lr:  0.005\n",
      "Epoch: 24/100\n",
      "Train - Loss: 0.583612, Accuracy: 75.50\n",
      "Valid - Loss: 0.854855, Accuracy: 63.13\n",
      "Save model, validation acc: 63.13405797101449\n",
      "23 epoch end lr:  0.005\n",
      "Epoch: 25/100\n",
      "Train - Loss: 0.581886, Accuracy: 75.50\n",
      "Valid - Loss: 0.857299, Accuracy: 61.50\n",
      "24 epoch end lr:  0.005\n",
      "Epoch: 26/100\n",
      "Train - Loss: 0.578863, Accuracy: 75.48\n",
      "Valid - Loss: 0.819160, Accuracy: 63.35\n",
      "Save model, validation acc: 63.34692028985508\n",
      "25 epoch end lr:  0.005\n",
      "Epoch: 27/100\n",
      "Train - Loss: 0.570553, Accuracy: 76.27\n",
      "Valid - Loss: 0.866957, Accuracy: 61.47\n",
      "26 epoch end lr:  0.005\n",
      "Epoch: 28/100\n",
      "Train - Loss: 0.558955, Accuracy: 76.44\n",
      "Valid - Loss: 0.915897, Accuracy: 61.76\n",
      "27 epoch end lr:  0.005\n",
      "Epoch: 29/100\n",
      "Train - Loss: 0.560693, Accuracy: 76.78\n",
      "Valid - Loss: 0.806417, Accuracy: 62.37\n",
      "28 epoch end lr:  0.005\n",
      "Epoch: 30/100\n",
      "Train - Loss: 0.542247, Accuracy: 77.54\n",
      "Valid - Loss: 1.052987, Accuracy: 59.63\n",
      "29 epoch end lr:  0.005\n",
      "Epoch: 31/100\n",
      "Train - Loss: 0.533798, Accuracy: 77.81\n",
      "Valid - Loss: 0.781258, Accuracy: 65.74\n",
      "Save model, validation loss: 0.7812580971614175\n",
      "Save model, validation acc: 65.74048913043478\n",
      "30 epoch end lr:  0.005\n",
      "Epoch: 32/100\n",
      "Train - Loss: 0.528531, Accuracy: 77.92\n",
      "Valid - Loss: 0.867561, Accuracy: 61.77\n",
      "31 epoch end lr:  0.005\n",
      "Epoch: 33/100\n",
      "Train - Loss: 0.517851, Accuracy: 78.44\n",
      "Valid - Loss: 0.878933, Accuracy: 63.86\n",
      "32 epoch end lr:  0.005\n",
      "Epoch: 34/100\n",
      "Train - Loss: 0.518207, Accuracy: 78.60\n",
      "Valid - Loss: 0.882271, Accuracy: 63.50\n",
      "33 epoch end lr:  0.005\n",
      "Epoch: 35/100\n",
      "Train - Loss: 0.501963, Accuracy: 79.32\n",
      "Valid - Loss: 0.917599, Accuracy: 63.89\n",
      "34 epoch end lr:  0.005\n",
      "Epoch: 36/100\n",
      "Train - Loss: 0.499478, Accuracy: 79.07\n",
      "Valid - Loss: 1.038018, Accuracy: 60.50\n",
      "35 epoch end lr:  0.005\n",
      "Epoch: 37/100\n",
      "Train - Loss: 0.495960, Accuracy: 79.80\n",
      "Valid - Loss: 0.926041, Accuracy: 62.21\n",
      "36 epoch end lr:  0.005\n",
      "Epoch: 38/100\n",
      "Train - Loss: 0.490818, Accuracy: 79.73\n",
      "Valid - Loss: 0.814555, Accuracy: 65.01\n",
      "37 epoch end lr:  0.005\n",
      "Epoch: 39/100\n",
      "Train - Loss: 0.478337, Accuracy: 80.37\n",
      "Valid - Loss: 0.900365, Accuracy: 63.11\n",
      "38 epoch end lr:  0.005\n",
      "Epoch: 40/100\n",
      "Train - Loss: 0.480446, Accuracy: 80.03\n",
      "Valid - Loss: 0.835288, Accuracy: 64.48\n",
      "39 epoch end lr:  0.005\n",
      "Epoch: 41/100\n",
      "Train - Loss: 0.464344, Accuracy: 80.97\n",
      "Valid - Loss: 0.949843, Accuracy: 62.30\n",
      "40 epoch end lr:  0.005\n",
      "Epoch: 42/100\n",
      "Train - Loss: 0.452915, Accuracy: 81.54\n",
      "Valid - Loss: 0.849043, Accuracy: 64.77\n",
      "41 epoch end lr:  0.005\n",
      "Epoch: 43/100\n",
      "Train - Loss: 0.449894, Accuracy: 81.67\n",
      "Valid - Loss: 0.855618, Accuracy: 64.47\n",
      "42 epoch end lr:  0.005\n",
      "Epoch: 44/100\n",
      "Train - Loss: 0.444029, Accuracy: 81.68\n",
      "Valid - Loss: 0.865457, Accuracy: 64.32\n",
      "43 epoch end lr:  0.005\n",
      "Epoch: 45/100\n",
      "Train - Loss: 0.427639, Accuracy: 82.51\n",
      "Valid - Loss: 0.930473, Accuracy: 64.64\n",
      "44 epoch end lr:  0.005\n",
      "Epoch: 46/100\n",
      "Train - Loss: 0.413909, Accuracy: 83.01\n",
      "Valid - Loss: 0.947974, Accuracy: 63.45\n",
      "45 epoch end lr:  0.005\n",
      "Epoch: 47/100\n",
      "Train - Loss: 0.415746, Accuracy: 82.91\n",
      "Valid - Loss: 0.950185, Accuracy: 63.68\n",
      "46 epoch end lr:  0.005\n",
      "Epoch: 48/100\n",
      "Train - Loss: 0.402106, Accuracy: 83.47\n",
      "Valid - Loss: 1.009477, Accuracy: 64.25\n",
      "47 epoch end lr:  0.005\n",
      "Epoch: 49/100\n",
      "Train - Loss: 0.390343, Accuracy: 84.03\n",
      "Valid - Loss: 1.039350, Accuracy: 64.25\n",
      "48 epoch end lr:  0.005\n",
      "Epoch: 50/100\n",
      "Train - Loss: 0.393437, Accuracy: 84.17\n",
      "Valid - Loss: 0.946154, Accuracy: 64.78\n",
      "49 epoch end lr:  0.005\n",
      "Epoch: 51/100\n",
      "Train - Loss: 0.369221, Accuracy: 84.97\n",
      "Valid - Loss: 0.968388, Accuracy: 63.52\n",
      "50 epoch end lr:  0.005\n",
      "Epoch: 52/100\n",
      "Train - Loss: 0.380745, Accuracy: 84.49\n",
      "Valid - Loss: 0.962080, Accuracy: 64.70\n",
      "51 epoch end lr:  0.005\n",
      "Epoch: 53/100\n",
      "Train - Loss: 0.361549, Accuracy: 85.44\n",
      "Valid - Loss: 0.992863, Accuracy: 64.80\n",
      "52 epoch end lr:  0.005\n",
      "Epoch: 54/100\n",
      "Train - Loss: 0.347395, Accuracy: 86.10\n",
      "Valid - Loss: 0.945688, Accuracy: 65.48\n",
      "53 epoch end lr:  0.005\n",
      "Epoch: 55/100\n",
      "Train - Loss: 0.339033, Accuracy: 86.44\n",
      "Valid - Loss: 1.100501, Accuracy: 60.70\n",
      "54 epoch end lr:  0.005\n",
      "Epoch: 56/100\n",
      "Train - Loss: 0.330926, Accuracy: 86.71\n",
      "Valid - Loss: 1.059374, Accuracy: 63.08\n",
      "55 epoch end lr:  0.005\n",
      "Epoch: 57/100\n",
      "Train - Loss: 0.338777, Accuracy: 86.57\n",
      "Valid - Loss: 1.133134, Accuracy: 62.21\n",
      "56 epoch end lr:  0.005\n",
      "Epoch: 58/100\n",
      "Train - Loss: 0.328480, Accuracy: 86.90\n",
      "Valid - Loss: 1.119613, Accuracy: 62.79\n",
      "57 epoch end lr:  0.005\n",
      "Epoch: 59/100\n",
      "Train - Loss: 0.307117, Accuracy: 87.80\n",
      "Valid - Loss: 1.045966, Accuracy: 64.69\n",
      "58 epoch end lr:  0.005\n",
      "Epoch: 60/100\n",
      "Train - Loss: 0.310247, Accuracy: 87.80\n",
      "Valid - Loss: 1.353694, Accuracy: 62.62\n",
      "59 epoch end lr:  0.005\n",
      "Epoch: 61/100\n",
      "Train - Loss: 0.299887, Accuracy: 88.01\n",
      "Valid - Loss: 1.075225, Accuracy: 66.16\n",
      "Save model, validation acc: 66.15715579710145\n",
      "60 epoch end lr:  0.005\n",
      "Epoch: 62/100\n",
      "Train - Loss: 0.294256, Accuracy: 88.26\n",
      "Valid - Loss: 1.320824, Accuracy: 62.52\n",
      "61 epoch end lr:  0.005\n",
      "Epoch: 63/100\n",
      "Train - Loss: 0.281913, Accuracy: 88.84\n",
      "Valid - Loss: 1.122109, Accuracy: 62.83\n",
      "62 epoch end lr:  0.005\n",
      "Epoch: 64/100\n",
      "Train - Loss: 0.281310, Accuracy: 88.83\n",
      "Valid - Loss: 1.084823, Accuracy: 64.33\n",
      "63 epoch end lr:  0.005\n",
      "Epoch: 65/100\n",
      "Train - Loss: 0.274297, Accuracy: 89.27\n",
      "Valid - Loss: 1.259611, Accuracy: 63.43\n",
      "64 epoch end lr:  0.005\n",
      "Epoch: 66/100\n",
      "Train - Loss: 0.253742, Accuracy: 89.84\n",
      "Valid - Loss: 1.263998, Accuracy: 64.52\n",
      "65 epoch end lr:  0.005\n",
      "Epoch: 67/100\n",
      "Train - Loss: 0.257014, Accuracy: 89.76\n",
      "Valid - Loss: 1.175400, Accuracy: 63.07\n",
      "66 epoch end lr:  0.005\n",
      "Epoch: 68/100\n",
      "Train - Loss: 0.267724, Accuracy: 89.45\n",
      "Valid - Loss: 1.233296, Accuracy: 66.05\n",
      "67 epoch end lr:  0.005\n",
      "Epoch: 69/100\n",
      "Train - Loss: 0.251239, Accuracy: 90.19\n",
      "Valid - Loss: 1.189568, Accuracy: 64.27\n",
      "68 epoch end lr:  0.005\n",
      "Epoch: 70/100\n",
      "Train - Loss: 0.236570, Accuracy: 90.80\n",
      "Valid - Loss: 1.243398, Accuracy: 64.74\n",
      "69 epoch end lr:  0.005\n",
      "Epoch: 71/100\n",
      "Train - Loss: 0.246848, Accuracy: 90.32\n",
      "Valid - Loss: 1.246139, Accuracy: 62.64\n",
      "70 epoch end lr:  0.005\n",
      "Epoch: 72/100\n",
      "Train - Loss: 0.225412, Accuracy: 91.20\n",
      "Valid - Loss: 1.132057, Accuracy: 65.57\n",
      "71 epoch end lr:  0.005\n",
      "Epoch: 73/100\n",
      "Train - Loss: 0.220197, Accuracy: 91.14\n",
      "Valid - Loss: 1.334256, Accuracy: 64.35\n",
      "72 epoch end lr:  0.005\n",
      "Epoch: 74/100\n",
      "Train - Loss: 0.220167, Accuracy: 91.56\n",
      "Valid - Loss: 1.227306, Accuracy: 65.77\n",
      "73 epoch end lr:  0.005\n",
      "Epoch: 75/100\n",
      "Train - Loss: 0.224742, Accuracy: 91.39\n",
      "Valid - Loss: 1.306225, Accuracy: 65.14\n",
      "74 epoch end lr:  0.005\n",
      "Epoch: 76/100\n",
      "Train - Loss: 0.221366, Accuracy: 91.32\n",
      "Valid - Loss: 1.392148, Accuracy: 65.41\n",
      "75 epoch end lr:  0.005\n",
      "Epoch: 77/100\n",
      "Train - Loss: 0.198834, Accuracy: 92.43\n",
      "Valid - Loss: 1.236909, Accuracy: 65.84\n",
      "76 epoch end lr:  0.005\n",
      "Epoch: 78/100\n",
      "Train - Loss: 0.193204, Accuracy: 92.51\n",
      "Valid - Loss: 1.356886, Accuracy: 64.78\n",
      "77 epoch end lr:  0.005\n",
      "Epoch: 79/100\n",
      "Train - Loss: 0.208532, Accuracy: 92.04\n",
      "Valid - Loss: 1.602834, Accuracy: 62.56\n",
      "78 epoch end lr:  0.005\n",
      "Epoch: 80/100\n",
      "Train - Loss: 0.201500, Accuracy: 92.22\n",
      "Valid - Loss: 1.319787, Accuracy: 65.08\n",
      "79 epoch end lr:  0.005\n",
      "Epoch: 81/100\n",
      "Train - Loss: 0.184692, Accuracy: 92.95\n",
      "Valid - Loss: 1.381325, Accuracy: 63.91\n",
      "80 epoch end lr:  0.005\n",
      "Epoch: 82/100\n",
      "Train - Loss: 0.172891, Accuracy: 93.51\n",
      "Valid - Loss: 1.472261, Accuracy: 64.90\n",
      "81 epoch end lr:  0.005\n",
      "Epoch: 83/100\n",
      "Train - Loss: 0.178220, Accuracy: 93.23\n",
      "Valid - Loss: 1.266521, Accuracy: 64.65\n",
      "82 epoch end lr:  0.005\n",
      "Epoch: 84/100\n",
      "Train - Loss: 0.176606, Accuracy: 93.36\n",
      "Valid - Loss: 1.519062, Accuracy: 62.31\n",
      "83 epoch end lr:  0.005\n",
      "Epoch: 85/100\n",
      "Train - Loss: 0.172008, Accuracy: 93.40\n",
      "Valid - Loss: 1.508111, Accuracy: 64.52\n",
      "84 epoch end lr:  0.005\n",
      "Epoch: 86/100\n",
      "Train - Loss: 0.183981, Accuracy: 93.07\n",
      "Valid - Loss: 1.341248, Accuracy: 64.87\n",
      "85 epoch end lr:  0.005\n",
      "Epoch: 87/100\n",
      "Train - Loss: 0.172605, Accuracy: 93.72\n",
      "Valid - Loss: 1.584333, Accuracy: 63.02\n",
      "86 epoch end lr:  0.005\n",
      "Epoch: 88/100\n",
      "Train - Loss: 0.158494, Accuracy: 93.94\n",
      "Valid - Loss: 1.612839, Accuracy: 63.66\n",
      "87 epoch end lr:  0.005\n",
      "Epoch: 89/100\n",
      "Train - Loss: 0.165491, Accuracy: 93.57\n",
      "Valid - Loss: 1.970864, Accuracy: 63.86\n",
      "88 epoch end lr:  0.005\n",
      "Epoch: 90/100\n",
      "Train - Loss: 0.170166, Accuracy: 93.59\n",
      "Valid - Loss: 1.468288, Accuracy: 65.12\n",
      "89 epoch end lr:  0.005\n",
      "Epoch: 91/100\n",
      "Train - Loss: 0.155380, Accuracy: 94.08\n",
      "Valid - Loss: 1.533193, Accuracy: 64.24\n",
      "90 epoch end lr:  0.005\n",
      "Epoch: 92/100\n",
      "Train - Loss: 0.147794, Accuracy: 94.41\n",
      "Valid - Loss: 1.360633, Accuracy: 67.28\n",
      "Save model, validation acc: 67.27807971014492\n",
      "91 epoch end lr:  0.005\n",
      "Epoch: 93/100\n",
      "Train - Loss: 0.155252, Accuracy: 94.26\n",
      "Valid - Loss: 1.468916, Accuracy: 64.63\n",
      "92 epoch end lr:  0.005\n",
      "Epoch: 94/100\n",
      "Train - Loss: 0.158081, Accuracy: 94.21\n",
      "Valid - Loss: 1.512514, Accuracy: 65.02\n",
      "93 epoch end lr:  0.005\n",
      "Epoch: 95/100\n",
      "Train - Loss: 0.148896, Accuracy: 94.56\n",
      "Valid - Loss: 1.698351, Accuracy: 63.57\n",
      "94 epoch end lr:  0.005\n",
      "Epoch: 96/100\n",
      "Train - Loss: 0.162458, Accuracy: 93.99\n",
      "Valid - Loss: 1.527805, Accuracy: 66.55\n",
      "95 epoch end lr:  0.005\n",
      "Epoch: 97/100\n",
      "Train - Loss: 0.138917, Accuracy: 94.78\n",
      "Valid - Loss: 1.532652, Accuracy: 65.06\n",
      "96 epoch end lr:  0.005\n",
      "Epoch: 98/100\n",
      "Train - Loss: 0.148946, Accuracy: 94.40\n",
      "Valid - Loss: 1.777554, Accuracy: 61.19\n",
      "97 epoch end lr:  0.005\n",
      "Epoch: 99/100\n",
      "Train - Loss: 0.136979, Accuracy: 94.80\n",
      "Valid - Loss: 1.638883, Accuracy: 63.95\n",
      "98 epoch end lr:  0.005\n",
      "Epoch: 100/100\n",
      "Train - Loss: 0.147876, Accuracy: 94.51\n",
      "Valid - Loss: 1.644716, Accuracy: 63.44\n",
      "99 epoch end lr:  0.005\n"
     ]
    }
   ],
   "source": [
    "history = model.fit(parameters)"
   ]
  },
  {
   "cell_type": "code",
   "execution_count": 14,
   "metadata": {},
   "outputs": [],
   "source": [
    "with open(f\"{model_path}last_history.pkl\", \"rb\") as pkl_file:\n",
    "    history = pkl.load(pkl_file)"
   ]
  },
  {
   "cell_type": "code",
   "execution_count": 15,
   "metadata": {},
   "outputs": [
    {
     "data": {
      "image/png": "[encoded data removed]",
      "text/plain": [
       "<Figure size 1000x400 with 2 Axes>"
      ]
     },
     "metadata": {},
     "output_type": "display_data"
    }
   ],
   "source": [
    "import math\n",
    "\n",
    "train_loss = history[\"train_loss\"]\n",
    "train_acc = history[\"train_acc\"]\n",
    "valid_loss = history[\"valid_loss\"]\n",
    "valid_acc = history[\"valid_acc\"]\n",
    "epoch = len(history[\"train_loss\"])\n",
    "\n",
    "fig, ax = plt.subplots(1, 2, figsize=(10, 4))\n",
    "ax[0].plot(train_loss, 'b', label=\"training\")\n",
    "ax[0].plot(valid_loss, '--r', label=\"validation\")\n",
    "ax[0].set_xlim((0, epoch))\n",
    "max_y = math.ceil(max(valid_loss)) if max(train_loss) < max(valid_loss) else  math.ceil(max(train_loss))\n",
    "ax[0].set_ylim((0, max_y))\n",
    "ax[0].legend()\n",
    "ax[0].grid()\n",
    "\n",
    "ax[1].plot(train_acc, 'b', label=\"training\")\n",
    "ax[1].plot(valid_acc, '--r', label=\"validation\")\n",
    "ax[1].set_xlim((0, epoch))\n",
    "ax[1].set_ylim((0, 100))\n",
    "ax[1].legend()\n",
    "ax[1].grid()\n",
    "plt.show()"
   ]
  },
  {
   "cell_type": "code",
   "execution_count": 16,
   "metadata": {},
   "outputs": [
    {
     "data": {
      "text/plain": [
       "<All keys matched successfully>"
      ]
     },
     "execution_count": 16,
     "metadata": {},
     "output_type": "execute_result"
    }
   ],
   "source": [
    "model.load_state_dict(torch.load(f\"{model_path}high_acc.pth\"))"
   ]
  },
  {
   "cell_type": "code",
   "execution_count": 17,
   "metadata": {},
   "outputs": [],
   "source": [
    "# train_x, train_y, order = shuffle_data(train_x, train_y, 42)\n",
    "split_valid_x, split_valid_y, order = shuffle_data(split_valid_x, split_valid_y, 42)"
   ]
  },
  {
   "cell_type": "code",
   "execution_count": 18,
   "metadata": {},
   "outputs": [
    {
     "data": {
      "application/vnd.jupyter.widget-view+json": {
       "model_id": "47a878cc73394c9ca3799b482791fd7a",
       "version_major": 2,
       "version_minor": 0
      },
      "text/plain": [
       "  0%|          | 0/23 [00:00<?, ?it/s]"
      ]
     },
     "metadata": {},
     "output_type": "display_data"
    }
   ],
   "source": [
    "with torch.no_grad():\n",
    "    pred, labels = model.predict(split_valid_x)"
   ]
  },
  {
   "cell_type": "code",
   "execution_count": 19,
   "metadata": {},
   "outputs": [
    {
     "data": {
      "text/plain": [
       "0.672852233676976"
      ]
     },
     "execution_count": 19,
     "metadata": {},
     "output_type": "execute_result"
    }
   ],
   "source": [
    "accuracy_score(split_valid_y, labels.cpu())"
   ]
  },
  {
   "cell_type": "code",
   "execution_count": 22,
   "metadata": {},
   "outputs": [
    {
     "name": "stdout",
     "output_type": "stream",
     "text": [
      "AUC per class: [0.7996213082846746, 0.7856576995685005, 0.9158650908859856]\n"
     ]
    },
    {
     "data": {
      "image/png": "[encoded data removed]",
      "text/plain": [
       "<Figure size 640x480 with 1 Axes>"
      ]
     },
     "metadata": {},
     "output_type": "display_data"
    }
   ],
   "source": [
    "from sklearn.metrics import roc_curve, roc_auc_score\n",
    "\n",
    "# 예측값과 레이블 값을 가져옵니다.\n",
    "out_features = 3\n",
    "y_pred = pred.cpu()\n",
    "y_true = split_valid_y\n",
    "\n",
    "# Softmax 함수를 사용하여 확률값을 계산합니다.\n",
    "y_pred = torch.softmax(y_pred, dim=1)\n",
    "\n",
    "# 각 클래스에 대한 AUC 값을 계산합니다.\n",
    "auc_list = []\n",
    "for i in range(out_features):\n",
    "    auc = roc_auc_score((y_true == i), y_pred[:, i].numpy())\n",
    "    auc_list.append(auc)\n",
    "\n",
    "# AUC 값을 출력합니다.\n",
    "print(\"AUC per class:\", auc_list)\n",
    "\n",
    "# 각 클래스별 FPR과 TPR 값을 구합니다.\n",
    "fpr_list = []\n",
    "tpr_list = []\n",
    "for i in range(out_features):\n",
    "    fpr, tpr, _ = roc_curve((y_true == i), y_pred[:, i].numpy())\n",
    "    fpr_list.append(fpr)\n",
    "    tpr_list.append(tpr)\n",
    "\n",
    "# 모든 클래스에 대한 FPR과 TPR 값을 평균 내어 멀티클래스 AUC 값을 구합니다.\n",
    "mean_fpr = np.unique(np.concatenate(fpr_list))\n",
    "mean_tpr = np.zeros_like(mean_fpr)\n",
    "for i in range(out_features):\n",
    "    mean_tpr += np.interp(mean_fpr, fpr_list[i], tpr_list[i])\n",
    "mean_tpr /= out_features\n",
    "\n",
    "# 멀티클래스 AUC-ROC 커브를 그립니다.\n",
    "plt.plot(mean_fpr, mean_tpr, label='Multi-class ROC curve (AUC = %0.2f)' % np.mean(auc_list))\n",
    "plt.plot([0, 1], [0, 1], 'k--')\n",
    "plt.xlabel('False Positive Rate')\n",
    "plt.ylabel('True Positive Rate')\n",
    "plt.legend(loc='lower right')\n",
    "plt.show()"
   ]
  },
  {
   "cell_type": "code",
   "execution_count": 23,
   "metadata": {},
   "outputs": [
    {
     "name": "stdout",
     "output_type": "stream",
     "text": [
      "              precision    recall  f1-score   support\n",
      "\n",
      "          A4       0.60      0.77      0.67      1092\n",
      "          A5       0.67      0.52      0.59      1056\n",
      "          A6       0.82      0.74      0.78       762\n",
      "\n",
      "    accuracy                           0.67      2910\n",
      "   macro avg       0.70      0.68      0.68      2910\n",
      "weighted avg       0.69      0.67      0.67      2910\n",
      "\n"
     ]
    }
   ],
   "source": [
    "from sklearn.metrics import classification_report\n",
    "print(classification_report(y_true=split_valid_y, y_pred=labels.cpu(), target_names=[\"A1\", \"A2\", \"A3\", \"A4\", \"A5\", \"A6\"]))"
   ]
  },
  {
   "cell_type": "code",
   "execution_count": null,
   "metadata": {},
   "outputs": [],
   "source": []
  }
 ],
 "metadata": {
  "kernelspec": {
   "display_name": "capstone",
   "language": "python",
   "name": "python3"
  },
  "language_info": {
   "codemirror_mode": {
    "name": "ipython",
    "version": 3
   },
   "file_extension": ".py",
   "mimetype": "text/x-python",
   "name": "python",
   "nbconvert_exporter": "python",
   "pygments_lexer": "ipython3",
   "version": "3.9.16"
  },
  "orig_nbformat": 4
 },
 "nbformat": 4,
 "nbformat_minor": 2
}
