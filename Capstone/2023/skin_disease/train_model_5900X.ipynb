{
 "cells": [
  {
   "cell_type": "code",
   "execution_count": 1,
   "metadata": {},
   "outputs": [
    {
     "name": "stdout",
     "output_type": "stream",
     "text": [
      "DATA TYPE: train\n",
      "\n",
      "original data folder\n",
      "['A1', 'A2', 'A3', 'A4', 'A5', 'A6']\n",
      "\n",
      "RoI data folder\n",
      "['A1', 'A2', 'A3', 'A4', 'A5', 'A6']\n",
      "\n",
      "box data folder\n",
      "['A1', 'A2', 'A3', 'A4', 'A5', 'A6']\n",
      "\n",
      "crop data folder\n",
      "['A1', 'A2', 'A3', 'A4', 'A5', 'A6']\n",
      "\n",
      "ratio_zero-padding data folder\n",
      "['A1', 'A2', 'A3', 'A4', 'A5', 'A6']\n",
      "\n",
      "RZ_LANCZOS4 data folder\n",
      "['A1', 'A2', 'A3', 'A4', 'A5', 'A6']\n",
      "\n"
     ]
    }
   ],
   "source": [
    "# default\n",
    "from pprint import pprint\n",
    "import natsort\n",
    "import os\n",
    "import pickle as pkl\n",
    "\n",
    "# data structure\n",
    "import numpy as np\n",
    "from PIL import Image\n",
    "\n",
    "# visualize\n",
    "import pandas as pd\n",
    "import matplotlib.pyplot as plt\n",
    "import seaborn as sns\n",
    "\n",
    "# Deep Learning\n",
    "import torch\n",
    "import torch.optim as optim\n",
    "from torch import nn\n",
    "from torch.utils.data import Dataset, DataLoader\n",
    "from torchinfo import summary\n",
    "\n",
    "from torchvision import transforms\n",
    "from torchvision import models\n",
    "from torchvision.models import resnet50\n",
    "from torchvision.models import efficientnet_v2_s, efficientnet_v2_m, efficientnet_v2_l\n",
    "\n",
    "from sklearn.model_selection import train_test_split\n",
    "from sklearn.metrics import accuracy_score, classification_report\n",
    "\n",
    "import module.skin_disease_model as sdm\n",
    "from module.data_processing import mkadir\n",
    "\n",
    "TRAIN = 0\n",
    "VALID = 1\n",
    "data_type = [\"train\", \"valid\"]\n",
    "dt = data_type[TRAIN]\n",
    "\n",
    "project_path = \"E:/Tukorea/Capstone/\"\n",
    "original_data_path = os.path.join(project_path, \"dataset/\", \"original/\", dt)\n",
    "RoI_data_path = os.path.join(project_path, \"dataset/\", \"RoI/\", dt)\n",
    "box_data_path = os.path.join(project_path, \"dataset/\", \"box/256x256/\", dt)\n",
    "crop_data_path = os.path.join(project_path, \"dataset/\", \"crop/\", dt)\n",
    "RZ_data_path = os.path.join(project_path, \"dataset/\", \"ratio_zero-padding/\", dt)\n",
    "RZ_LANCZOS4_data_path = os.path.join(project_path, \"dataset/\", \"RZ_LANCZOS4/\", dt)\n",
    "\n",
    "data_path_namelist = [\"original\", \"RoI\", \"box\", \"crop\", \"ratio_zero-padding\", \"RZ_LANCZOS4\"]\n",
    "data_path_list = [original_data_path, RoI_data_path, box_data_path, crop_data_path, RZ_data_path, RZ_LANCZOS4_data_path]\n",
    "\n",
    "print(\"DATA TYPE:\", dt, end=\"\\n\\n\")\n",
    "for i, data_path in enumerate(data_path_list):\n",
    "    print(data_path_namelist[i] + \" data folder\")\n",
    "    folder = natsort.natsorted(os.listdir(data_path))\n",
    "    print(folder, end=\"\\n\\n\")"
   ]
  },
  {
   "attachments": {},
   "cell_type": "markdown",
   "metadata": {},
   "source": [
    "load dataset"
   ]
  },
  {
   "cell_type": "code",
   "execution_count": 2,
   "metadata": {},
   "outputs": [],
   "source": [
    "def shuffle_data(x, y, seed):\n",
    "    if len(x) != len(y):\n",
    "        print(\"x and y are not same the length.\")\n",
    "        return\n",
    "\n",
    "    order = np.arange(len(y))\n",
    "    np.random.seed(seed)\n",
    "    np.random.shuffle(order)\n",
    "    \n",
    "    new_x = list()\n",
    "    for i in order:\n",
    "        new_x.append(x[i])\n",
    "    \n",
    "    return new_x, y[order], order"
   ]
  },
  {
   "cell_type": "code",
   "execution_count": 3,
   "metadata": {},
   "outputs": [
    {
     "name": "stdout",
     "output_type": "stream",
     "text": [
      "train_x length:  53430\n",
      "train_x type:  <class 'list'>\n",
      "train_y length:  (53430,)\n",
      "train_y type:  <class 'numpy.ndarray'>\n",
      "valid_x length:  6645\n",
      "valid_x type:  <class 'list'>\n",
      "valid_y length:  (6645,)\n",
      "valid_y type:  <class 'numpy.ndarray'>\n"
     ]
    }
   ],
   "source": [
    "dataset_path = \"/\".join(RZ_LANCZOS4_data_path.split(\"/\")[:-1]) + \"/\"\n",
    "\n",
    "# 이미지 불러오기\n",
    "with open(os.path.join(dataset_path, \"224x224_train_data.pkl\"), \"rb\") as pkl_file:\n",
    "  train_x, train_y = pkl.load(pkl_file)\n",
    "\n",
    "with open(os.path.join(dataset_path, \"224x224_valid_data.pkl\"), \"rb\") as pkl_file:\n",
    "  valid_x, valid_y = pkl.load(pkl_file)\n",
    "\n",
    "print(\"train_x length: \", len(train_x))\n",
    "print(\"train_x type: \", type(train_x))\n",
    "print(\"train_y length: \", train_y.shape)\n",
    "print(\"train_y type: \", type(train_y))\n",
    "print(\"valid_x length: \", len(valid_x))\n",
    "print(\"valid_x type: \", type(valid_x))\n",
    "print(\"valid_y length: \", valid_y.shape)\n",
    "print(\"valid_y type: \", type(valid_y))"
   ]
  },
  {
   "attachments": {},
   "cell_type": "markdown",
   "metadata": {},
   "source": [
    "# Scenario 2"
   ]
  },
  {
   "cell_type": "code",
   "execution_count": 4,
   "metadata": {},
   "outputs": [],
   "source": [
    "# fname = \"10-130\"\n",
    "# dataset_path = \"/\".join(RZ_LANCZOS4_data_path.split(\"/\")[:-1]) + f\"/{fname}/\"\n",
    "# fname = \"131-391\"\n",
    "# dataset_path = \"/\".join(RZ_LANCZOS4_data_path.split(\"/\")[:-1]) + \"/131-391/\"\n",
    "fname = \"392-\"\n",
    "dataset_path = \"/\".join(RZ_LANCZOS4_data_path.split(\"/\")[:-1]) + \"/392-/\""
   ]
  },
  {
   "cell_type": "code",
   "execution_count": 5,
   "metadata": {},
   "outputs": [
    {
     "name": "stdout",
     "output_type": "stream",
     "text": [
      "train_x length:  6380\n",
      "train_x type:  <class 'list'>\n",
      "train_y length:  (6380,)\n",
      "train_y type:  <class 'numpy.ndarray'>\n",
      "valid_x length:  950\n",
      "valid_x type:  <class 'list'>\n",
      "valid_y length:  (950,)\n",
      "valid_y type:  <class 'numpy.ndarray'>\n"
     ]
    }
   ],
   "source": [
    "# 이미지 불러오기\n",
    "with open(os.path.join(dataset_path, f\"{fname}_train_data.pkl\"), \"rb\") as pkl_file:\n",
    "  train_x, train_y = pkl.load(pkl_file)\n",
    "\n",
    "with open(os.path.join(dataset_path, f\"{fname}_valid_data.pkl\"), \"rb\") as pkl_file:\n",
    "  valid_x, valid_y = pkl.load(pkl_file)\n",
    "\n",
    "print(\"train_x length: \", len(train_x))\n",
    "print(\"train_x type: \", type(train_x))\n",
    "print(\"train_y length: \", train_y.shape)\n",
    "print(\"train_y type: \", type(train_y))\n",
    "print(\"valid_x length: \", len(valid_x))\n",
    "print(\"valid_x type: \", type(valid_x))\n",
    "print(\"valid_y length: \", valid_y.shape)\n",
    "print(\"valid_y type: \", type(valid_y))"
   ]
  },
  {
   "cell_type": "code",
   "execution_count": null,
   "metadata": {},
   "outputs": [],
   "source": [
    "# y를 통해서 입력된 숫자대로 클래스를 나누어 리스트로 반환한다.\n",
    "def split_label(x, y, label_num):\n",
    "    u, c = np.unique(y, return_counts=True)\n",
    "\n",
    "    labels = list()\n",
    "    \n",
    "    prev_loc = 0\n",
    "    end_loc = 0\n",
    "    for i, loc in enumerate(c):\n",
    "        end_loc += loc\n",
    "\n",
    "        if (i + 1) % label_num == 0:\n",
    "            labels.append((x[prev_loc:end_loc].copy(), y[prev_loc:end_loc].copy()))\n",
    "            prev_loc = end_loc\n",
    "\n",
    "    if prev_loc != end_loc:\n",
    "        labels.append((x[prev_loc:end_loc].copy(), y[prev_loc:end_loc].copy()))\n",
    "\n",
    "    return labels"
   ]
  },
  {
   "cell_type": "code",
   "execution_count": null,
   "metadata": {},
   "outputs": [],
   "source": [
    "sltrain = split_label(train_x, train_y, 3)\n",
    "slvalid = split_label(valid_x, valid_y, 3)"
   ]
  },
  {
   "cell_type": "code",
   "execution_count": null,
   "metadata": {},
   "outputs": [
    {
     "name": "stdout",
     "output_type": "stream",
     "text": [
      "[0 1 2] [ 8730 10762 10539]\n",
      "[0 1 2] [1087 1331 1317]\n"
     ]
    }
   ],
   "source": [
    "DATA = 0\n",
    "LABEL = 1\n",
    "ORDER = 0\n",
    "\n",
    "split_train_x = sltrain[ORDER][DATA]\n",
    "split_train_y = sltrain[ORDER][LABEL]\n",
    "split_valid_x = slvalid[ORDER][DATA]\n",
    "split_valid_y = slvalid[ORDER][LABEL]\n",
    "\n",
    "tu, tc = np.unique(split_train_y, return_counts=True)\n",
    "vu, vc = np.unique(split_valid_y, return_counts=True)\n",
    "\n",
    "print(tu, tc)\n",
    "print(vu, vc)"
   ]
  },
  {
   "cell_type": "code",
   "execution_count": null,
   "metadata": {},
   "outputs": [],
   "source": [
    "split_train_y[split_train_y == 3] = 0\n",
    "split_train_y[split_train_y == 4] = 1\n",
    "split_train_y[split_train_y == 5] = 2"
   ]
  },
  {
   "cell_type": "code",
   "execution_count": null,
   "metadata": {},
   "outputs": [],
   "source": [
    "split_valid_y[split_valid_y == 3] = 0\n",
    "split_valid_y[split_valid_y == 4] = 1\n",
    "split_valid_y[split_valid_y == 5] = 2"
   ]
  },
  {
   "cell_type": "code",
   "execution_count": null,
   "metadata": {},
   "outputs": [
    {
     "name": "stdout",
     "output_type": "stream",
     "text": [
      "[0 1 2]\n",
      "[0 1 2]\n"
     ]
    }
   ],
   "source": [
    "print(np.unique(split_train_y))\n",
    "print(np.unique(split_valid_y))"
   ]
  },
  {
   "cell_type": "code",
   "execution_count": null,
   "metadata": {},
   "outputs": [],
   "source": [
    "del train_x, valid_x, train_y, valid_y\n",
    "del sltrain, slvalid"
   ]
  },
  {
   "attachments": {},
   "cell_type": "markdown",
   "metadata": {},
   "source": [
    "# Torch"
   ]
  },
  {
   "cell_type": "code",
   "execution_count": 6,
   "metadata": {},
   "outputs": [],
   "source": [
    "train_transforms = transforms.Compose([\n",
    "    transforms.RandomHorizontalFlip(p=0.5),\n",
    "    transforms.RandomVerticalFlip(p=0.5),\n",
    "    transforms.ToTensor(),\n",
    "    transforms.Normalize([0.5, 0.5, 0.5], [0.5, 0.5, 0.5])\n",
    "])\n",
    "\n",
    "test_transforms = transforms.Compose([\n",
    "    transforms.ToTensor(),\n",
    "    transforms.Normalize([0.5, 0.5, 0.5], [0.5, 0.5, 0.5])\n",
    "])"
   ]
  },
  {
   "cell_type": "code",
   "execution_count": 7,
   "metadata": {},
   "outputs": [],
   "source": [
    "train_dataset = sdm.Skin_Disease_Dataset(train_x, train_y, train_transforms)\n",
    "valid_dataset = sdm.Skin_Disease_Dataset(valid_x, valid_y, test_transforms)\n",
    "train_data_loader = DataLoader(train_dataset, batch_size=128, shuffle=True)\n",
    "valid_data_loader = DataLoader(valid_dataset, batch_size=128, shuffle=True)"
   ]
  },
  {
   "cell_type": "code",
   "execution_count": 8,
   "metadata": {},
   "outputs": [
    {
     "name": "stdout",
     "output_type": "stream",
     "text": [
      "==============================================================================================================\n",
      "Layer (type:depth-idx)                                       Output Shape              Param #\n",
      "==============================================================================================================\n",
      "Skin_Distinction_Model                                       [1, 6]                    --\n",
      "├─EfficientNet: 1-1                                          [1, 1000]                 --\n",
      "│    └─Sequential: 2-1                                       [1, 1280, 6, 6]           --\n",
      "│    │    └─Conv2dNormActivation: 3-1                        [1, 24, 84, 84]           696\n",
      "│    │    └─Sequential: 3-2                                  [1, 24, 84, 84]           10,464\n",
      "│    │    └─Sequential: 3-3                                  [1, 48, 42, 42]           303,552\n",
      "│    │    └─Sequential: 3-4                                  [1, 64, 21, 21]           589,184\n",
      "│    │    └─Sequential: 3-5                                  [1, 128, 11, 11]          917,680\n",
      "│    │    └─Sequential: 3-6                                  [1, 160, 11, 11]          3,463,840\n",
      "│    │    └─Sequential: 3-7                                  [1, 256, 6, 6]            14,561,832\n",
      "│    │    └─Conv2dNormActivation: 3-8                        [1, 1280, 6, 6]           330,240\n",
      "│    └─AdaptiveAvgPool2d: 2-2                                [1, 1280, 1, 1]           --\n",
      "│    └─Sequential: 2-3                                       [1, 1000]                 --\n",
      "│    │    └─Dropout: 3-9                                     [1, 1280]                 --\n",
      "│    │    └─Linear: 3-10                                     [1, 1000]                 1,281,000\n",
      "├─Linear: 1-2                                                [1, 6]                    6,006\n",
      "==============================================================================================================\n",
      "Total params: 21,464,494\n",
      "Trainable params: 21,464,494\n",
      "Non-trainable params: 0\n",
      "Total mult-adds (G): 1.74\n",
      "==============================================================================================================\n",
      "Input size (MB): 0.34\n",
      "Forward/backward pass size (MB): 120.72\n",
      "Params size (MB): 85.86\n",
      "Estimated Total Size (MB): 206.91\n",
      "==============================================================================================================\n"
     ]
    }
   ],
   "source": [
    "model_path = os.path.join(project_path, \"model/\", \"2023-03-24-3/\")\n",
    "mkadir(model_path)\n",
    "\n",
    "device = torch.device(\"cuda\" if torch.cuda.is_available() else \"cpu\")\n",
    "model = sdm.Skin_Distinction_Model(model=efficientnet_v2_s(weights=\"DEFAULT\"),\n",
    "                                   out_features=6,\n",
    "                                   device=device,\n",
    "                                   save_path=model_path).to(device)\n",
    "\n",
    "pprint(summary(model, input_size=(1, 3, 224, 224), verbose=0))"
   ]
  },
  {
   "cell_type": "code",
   "execution_count": 9,
   "metadata": {},
   "outputs": [],
   "source": [
    "# 0.000213388\n",
    "# optimizer = optim.SGD(model.parameters(), lr=7.5e-7, momentum=0.999, weight_decay=1e-5, nesterov=True)\n",
    "\n",
    "optimizer = optim.Adam(model.parameters(), lr=1e-4)\n",
    "criterion = nn.CrossEntropyLoss().to(device)\n",
    "epochs = 100"
   ]
  },
  {
   "cell_type": "code",
   "execution_count": 10,
   "metadata": {},
   "outputs": [
    {
     "name": "stdout",
     "output_type": "stream",
     "text": [
      "cuda\n"
     ]
    }
   ],
   "source": [
    "print(device)\n",
    "parameters = {\n",
    "    'Train_DataLoader' : train_data_loader,\n",
    "    'Valid_DataLoader' : valid_data_loader,\n",
    "    'Optimizer'        : optimizer,\n",
    "    'Loss_function'    : criterion,\n",
    "    'Epochs'           : epochs\n",
    "}"
   ]
  },
  {
   "cell_type": "code",
   "execution_count": 11,
   "metadata": {},
   "outputs": [
    {
     "data": {
      "application/vnd.jupyter.widget-view+json": {
       "model_id": "97c2c568b51a44778542e37068191a16",
       "version_major": 2,
       "version_minor": 0
      },
      "text/plain": [
       "  0%|          | 0/100 [00:00<?, ?it/s]"
      ]
     },
     "metadata": {},
     "output_type": "display_data"
    },
    {
     "name": "stdout",
     "output_type": "stream",
     "text": [
      "Epoch: 1/100\n",
      "Train - Loss: 1.256267, Accuracy: 53.03\n",
      "Valid - Loss: 1.042639, Accuracy: 60.79\n",
      "Save model, validation loss: 1.0426388159394264\n",
      "Save model, validation acc: 60.789207175925924\n",
      "0 epoch end lr:  0.0001\n",
      "Epoch: 2/100\n",
      "Train - Loss: 0.890340, Accuracy: 67.04\n",
      "Valid - Loss: 0.933722, Accuracy: 63.79\n",
      "Save model, validation loss: 0.9337218925356865\n",
      "Save model, validation acc: 63.791232638888886\n",
      "1 epoch end lr:  0.0001\n",
      "Epoch: 3/100\n",
      "Train - Loss: 0.704447, Accuracy: 73.59\n",
      "Valid - Loss: 1.076707, Accuracy: 58.81\n",
      "2 epoch end lr:  0.0001\n",
      "Epoch: 4/100\n",
      "Train - Loss: 0.567321, Accuracy: 79.60\n",
      "Valid - Loss: 1.020567, Accuracy: 64.57\n",
      "Save model, validation acc: 64.57248263888889\n",
      "3 epoch end lr:  0.0001\n",
      "Epoch: 5/100\n",
      "Train - Loss: 0.457080, Accuracy: 83.57\n",
      "Valid - Loss: 0.955930, Accuracy: 68.12\n",
      "Save model, validation acc: 68.12065972222223\n",
      "4 epoch end lr:  0.0001\n",
      "Epoch: 6/100\n",
      "Train - Loss: 0.339579, Accuracy: 87.84\n",
      "Valid - Loss: 0.987264, Accuracy: 69.83\n",
      "Save model, validation acc: 69.83145254629629\n",
      "5 epoch end lr:  0.0001\n",
      "Epoch: 7/100\n",
      "Train - Loss: 0.266752, Accuracy: 90.93\n",
      "Valid - Loss: 1.054674, Accuracy: 70.37\n",
      "Save model, validation acc: 70.36675347222223\n",
      "6 epoch end lr:  0.0001\n",
      "Epoch: 8/100\n",
      "Train - Loss: 0.215878, Accuracy: 91.98\n",
      "Valid - Loss: 1.134489, Accuracy: 69.35\n",
      "7 epoch end lr:  0.0001\n",
      "Epoch: 9/100\n",
      "Train - Loss: 0.140039, Accuracy: 95.02\n",
      "Valid - Loss: 1.584780, Accuracy: 65.35\n",
      "8 epoch end lr:  0.0001\n",
      "Epoch: 10/100\n",
      "Train - Loss: 0.133662, Accuracy: 95.57\n",
      "Valid - Loss: 1.261322, Accuracy: 69.80\n",
      "9 epoch end lr:  0.0001\n",
      "Epoch: 11/100\n",
      "Train - Loss: 0.115653, Accuracy: 95.98\n",
      "Valid - Loss: 1.480306, Accuracy: 66.87\n",
      "10 epoch end lr:  0.0001\n",
      "Epoch: 12/100\n",
      "Train - Loss: 0.098682, Accuracy: 96.35\n",
      "Valid - Loss: 1.439759, Accuracy: 68.80\n",
      "11 epoch end lr:  0.0001\n",
      "Epoch: 13/100\n",
      "Train - Loss: 0.068890, Accuracy: 97.74\n",
      "Valid - Loss: 1.643185, Accuracy: 67.38\n",
      "12 epoch end lr:  0.0001\n",
      "Epoch: 14/100\n",
      "Train - Loss: 0.056394, Accuracy: 98.25\n",
      "Valid - Loss: 1.580797, Accuracy: 70.40\n",
      "Save model, validation acc: 70.40292245370371\n",
      "13 epoch end lr:  0.0001\n",
      "Epoch: 15/100\n",
      "Train - Loss: 0.065394, Accuracy: 97.76\n",
      "Valid - Loss: 1.659849, Accuracy: 69.68\n",
      "14 epoch end lr:  0.0001\n",
      "Epoch: 16/100\n",
      "Train - Loss: 0.062687, Accuracy: 97.98\n",
      "Valid - Loss: 1.663682, Accuracy: 68.40\n",
      "15 epoch end lr:  0.0001\n",
      "Epoch: 17/100\n",
      "Train - Loss: 0.055068, Accuracy: 97.99\n",
      "Valid - Loss: 2.065611, Accuracy: 64.63\n",
      "16 epoch end lr:  0.0001\n",
      "Epoch: 18/100\n",
      "Train - Loss: 0.049942, Accuracy: 98.28\n",
      "Valid - Loss: 1.846184, Accuracy: 70.16\n",
      "17 epoch end lr:  0.0001\n",
      "Epoch: 19/100\n",
      "Train - Loss: 0.048275, Accuracy: 98.53\n",
      "Valid - Loss: 1.938380, Accuracy: 69.46\n",
      "18 epoch end lr:  0.0001\n",
      "Epoch: 20/100\n",
      "Train - Loss: 0.047811, Accuracy: 98.48\n",
      "Valid - Loss: 2.102618, Accuracy: 65.02\n",
      "19 epoch end lr:  0.0001\n",
      "Epoch: 21/100\n",
      "Train - Loss: 0.046301, Accuracy: 98.53\n",
      "Valid - Loss: 1.819436, Accuracy: 69.32\n",
      "20 epoch end lr:  0.0001\n",
      "Epoch: 22/100\n",
      "Train - Loss: 0.041854, Accuracy: 98.50\n",
      "Valid - Loss: 2.105659, Accuracy: 67.77\n",
      "21 epoch end lr:  0.0001\n",
      "Epoch: 23/100\n",
      "Train - Loss: 0.039001, Accuracy: 98.62\n",
      "Valid - Loss: 2.023436, Accuracy: 69.13\n",
      "22 epoch end lr:  0.0001\n",
      "Epoch: 24/100\n",
      "Train - Loss: 0.032919, Accuracy: 98.88\n",
      "Valid - Loss: 1.919855, Accuracy: 70.72\n",
      "Save model, validation acc: 70.72120949074073\n",
      "23 epoch end lr:  0.0001\n",
      "Epoch: 25/100\n",
      "Train - Loss: 0.039686, Accuracy: 98.53\n",
      "Valid - Loss: 1.926684, Accuracy: 67.91\n",
      "24 epoch end lr:  0.0001\n",
      "Epoch: 26/100\n",
      "Train - Loss: 0.027624, Accuracy: 99.09\n",
      "Valid - Loss: 2.340840, Accuracy: 66.76\n",
      "25 epoch end lr:  0.0001\n",
      "Epoch: 27/100\n",
      "Train - Loss: 0.041822, Accuracy: 98.66\n",
      "Valid - Loss: 2.004005, Accuracy: 66.74\n",
      "26 epoch end lr:  0.0001\n",
      "Epoch: 28/100\n",
      "Train - Loss: 0.030464, Accuracy: 99.00\n",
      "Valid - Loss: 1.996392, Accuracy: 67.57\n",
      "27 epoch end lr:  0.0001\n",
      "Epoch: 29/100\n",
      "Train - Loss: 0.031530, Accuracy: 99.03\n",
      "Valid - Loss: 1.959367, Accuracy: 69.08\n",
      "28 epoch end lr:  0.0001\n",
      "Epoch: 30/100\n",
      "Train - Loss: 0.023860, Accuracy: 99.17\n",
      "Valid - Loss: 2.016817, Accuracy: 68.41\n",
      "29 epoch end lr:  0.0001\n",
      "Epoch: 31/100\n",
      "Train - Loss: 0.016095, Accuracy: 99.45\n",
      "Valid - Loss: 2.127866, Accuracy: 68.58\n",
      "30 epoch end lr:  0.0001\n",
      "Epoch: 32/100\n",
      "Train - Loss: 0.025969, Accuracy: 99.09\n",
      "Valid - Loss: 2.048731, Accuracy: 67.11\n",
      "31 epoch end lr:  0.0001\n",
      "Epoch: 33/100\n",
      "Train - Loss: 0.023505, Accuracy: 99.08\n",
      "Valid - Loss: 2.162646, Accuracy: 68.22\n",
      "32 epoch end lr:  0.0001\n",
      "Epoch: 34/100\n",
      "Train - Loss: 0.023948, Accuracy: 99.31\n",
      "Valid - Loss: 2.255698, Accuracy: 68.31\n",
      "33 epoch end lr:  0.0001\n",
      "Epoch: 35/100\n",
      "Train - Loss: 0.022827, Accuracy: 99.33\n",
      "Valid - Loss: 2.391792, Accuracy: 67.98\n",
      "34 epoch end lr:  0.0001\n",
      "Epoch: 36/100\n",
      "Train - Loss: 0.021110, Accuracy: 99.19\n",
      "Valid - Loss: 2.095636, Accuracy: 69.37\n",
      "35 epoch end lr:  0.0001\n",
      "Epoch: 37/100\n",
      "Train - Loss: 0.021991, Accuracy: 99.33\n",
      "Valid - Loss: 2.160469, Accuracy: 68.82\n",
      "36 epoch end lr:  0.0001\n",
      "Epoch: 38/100\n",
      "Train - Loss: 0.026044, Accuracy: 99.12\n",
      "Valid - Loss: 2.176948, Accuracy: 69.48\n",
      "37 epoch end lr:  0.0001\n",
      "Epoch: 39/100\n",
      "Train - Loss: 0.027210, Accuracy: 99.08\n",
      "Valid - Loss: 2.350434, Accuracy: 66.83\n",
      "38 epoch end lr:  0.0001\n",
      "Epoch: 40/100\n",
      "Train - Loss: 0.017992, Accuracy: 99.45\n",
      "Valid - Loss: 2.363857, Accuracy: 68.17\n",
      "39 epoch end lr:  0.0001\n",
      "Epoch: 41/100\n",
      "Train - Loss: 0.021986, Accuracy: 99.31\n",
      "Valid - Loss: 2.453196, Accuracy: 67.05\n",
      "40 epoch end lr:  0.0001\n",
      "Epoch: 42/100\n",
      "Train - Loss: 0.017553, Accuracy: 99.48\n",
      "Valid - Loss: 2.591100, Accuracy: 66.94\n",
      "41 epoch end lr:  0.0001\n",
      "Epoch: 43/100\n",
      "Train - Loss: 0.020972, Accuracy: 99.26\n",
      "Valid - Loss: 2.359549, Accuracy: 69.18\n",
      "42 epoch end lr:  0.0001\n",
      "Epoch: 44/100\n",
      "Train - Loss: 0.023352, Accuracy: 99.16\n",
      "Valid - Loss: 2.387118, Accuracy: 66.95\n",
      "43 epoch end lr:  0.0001\n",
      "Epoch: 45/100\n",
      "Train - Loss: 0.019880, Accuracy: 99.28\n",
      "Valid - Loss: 2.451996, Accuracy: 69.00\n",
      "44 epoch end lr:  0.0001\n",
      "Epoch: 46/100\n",
      "Train - Loss: 0.025769, Accuracy: 99.20\n",
      "Valid - Loss: 2.137849, Accuracy: 69.28\n",
      "45 epoch end lr:  0.0001\n",
      "Epoch: 47/100\n",
      "Train - Loss: 0.017037, Accuracy: 99.41\n",
      "Valid - Loss: 2.341132, Accuracy: 68.71\n",
      "46 epoch end lr:  0.0001\n",
      "Epoch: 48/100\n",
      "Train - Loss: 0.024155, Accuracy: 99.28\n",
      "Valid - Loss: 2.269028, Accuracy: 68.96\n",
      "47 epoch end lr:  0.0001\n",
      "Epoch: 49/100\n",
      "Train - Loss: 0.018724, Accuracy: 99.36\n",
      "Valid - Loss: 2.077900, Accuracy: 69.36\n",
      "48 epoch end lr:  0.0001\n",
      "Epoch: 50/100\n",
      "Train - Loss: 0.015531, Accuracy: 99.45\n",
      "Valid - Loss: 2.415935, Accuracy: 68.06\n",
      "49 epoch end lr:  0.0001\n",
      "Epoch: 51/100\n",
      "Train - Loss: 0.019574, Accuracy: 99.37\n",
      "Valid - Loss: 2.263587, Accuracy: 67.40\n",
      "50 epoch end lr:  0.0001\n",
      "Epoch: 52/100\n",
      "Train - Loss: 0.020322, Accuracy: 99.36\n",
      "Valid - Loss: 2.244760, Accuracy: 70.63\n",
      "51 epoch end lr:  0.0001\n",
      "Epoch: 53/100\n",
      "Train - Loss: 0.018413, Accuracy: 99.47\n",
      "Valid - Loss: 2.370827, Accuracy: 68.07\n",
      "52 epoch end lr:  0.0001\n",
      "Epoch: 54/100\n",
      "Train - Loss: 0.018961, Accuracy: 99.39\n",
      "Valid - Loss: 2.401133, Accuracy: 68.49\n",
      "53 epoch end lr:  0.0001\n",
      "Epoch: 55/100\n",
      "Train - Loss: 0.023703, Accuracy: 99.36\n",
      "Valid - Loss: 2.075645, Accuracy: 70.23\n",
      "54 epoch end lr:  0.0001\n",
      "Epoch: 56/100\n",
      "Train - Loss: 0.024565, Accuracy: 99.25\n",
      "Valid - Loss: 2.256219, Accuracy: 71.54\n",
      "Save model, validation acc: 71.53862847222223\n",
      "55 epoch end lr:  0.0001\n",
      "Epoch: 57/100\n",
      "Train - Loss: 0.019651, Accuracy: 99.38\n",
      "Valid - Loss: 2.236546, Accuracy: 67.44\n",
      "56 epoch end lr:  0.0001\n",
      "Epoch: 58/100\n",
      "Train - Loss: 0.018353, Accuracy: 99.36\n",
      "Valid - Loss: 2.257675, Accuracy: 70.87\n",
      "57 epoch end lr:  0.0001\n",
      "Epoch: 59/100\n",
      "Train - Loss: 0.018280, Accuracy: 99.33\n",
      "Valid - Loss: 2.295481, Accuracy: 69.11\n",
      "58 epoch end lr:  0.0001\n",
      "Epoch: 60/100\n",
      "Train - Loss: 0.015032, Accuracy: 99.53\n",
      "Valid - Loss: 2.408936, Accuracy: 68.36\n",
      "59 epoch end lr:  0.0001\n",
      "Epoch: 61/100\n",
      "Train - Loss: 0.020060, Accuracy: 99.40\n",
      "Valid - Loss: 2.099885, Accuracy: 69.69\n",
      "60 epoch end lr:  0.0001\n",
      "Epoch: 62/100\n",
      "Train - Loss: 0.018746, Accuracy: 99.36\n",
      "Valid - Loss: 2.102727, Accuracy: 69.47\n",
      "61 epoch end lr:  0.0001\n",
      "Epoch: 63/100\n",
      "Train - Loss: 0.020696, Accuracy: 99.41\n",
      "Valid - Loss: 2.255775, Accuracy: 69.54\n",
      "62 epoch end lr:  0.0001\n",
      "Epoch: 64/100\n",
      "Train - Loss: 0.012169, Accuracy: 99.56\n",
      "Valid - Loss: 2.175449, Accuracy: 70.86\n",
      "63 epoch end lr:  0.0001\n",
      "Epoch: 65/100\n",
      "Train - Loss: 0.017471, Accuracy: 99.43\n",
      "Valid - Loss: 2.305527, Accuracy: 68.40\n",
      "64 epoch end lr:  0.0001\n",
      "Epoch: 66/100\n",
      "Train - Loss: 0.016720, Accuracy: 99.48\n",
      "Valid - Loss: 2.254130, Accuracy: 67.17\n",
      "65 epoch end lr:  0.0001\n",
      "Epoch: 67/100\n",
      "Train - Loss: 0.020419, Accuracy: 99.38\n",
      "Valid - Loss: 2.458240, Accuracy: 67.76\n",
      "66 epoch end lr:  0.0001\n",
      "Epoch: 68/100\n",
      "Train - Loss: 0.022537, Accuracy: 99.28\n",
      "Valid - Loss: 2.513655, Accuracy: 69.02\n",
      "67 epoch end lr:  0.0001\n",
      "Epoch: 69/100\n",
      "Train - Loss: 0.019286, Accuracy: 99.34\n",
      "Valid - Loss: 2.247704, Accuracy: 69.90\n",
      "68 epoch end lr:  0.0001\n",
      "Epoch: 70/100\n",
      "Train - Loss: 0.014153, Accuracy: 99.51\n",
      "Valid - Loss: 2.353661, Accuracy: 69.40\n",
      "69 epoch end lr:  0.0001\n",
      "Epoch: 71/100\n",
      "Train - Loss: 0.018741, Accuracy: 99.38\n",
      "Valid - Loss: 2.284249, Accuracy: 68.94\n",
      "70 epoch end lr:  0.0001\n",
      "Epoch: 72/100\n",
      "Train - Loss: 0.012879, Accuracy: 99.55\n",
      "Valid - Loss: 2.186165, Accuracy: 69.89\n",
      "71 epoch end lr:  0.0001\n",
      "Epoch: 73/100\n",
      "Train - Loss: 0.017071, Accuracy: 99.52\n",
      "Valid - Loss: 2.587450, Accuracy: 67.54\n",
      "72 epoch end lr:  0.0001\n",
      "Epoch: 74/100\n",
      "Train - Loss: 0.013820, Accuracy: 99.59\n",
      "Valid - Loss: 2.403023, Accuracy: 68.85\n",
      "73 epoch end lr:  0.0001\n",
      "Epoch: 75/100\n",
      "Train - Loss: 0.010704, Accuracy: 99.70\n",
      "Valid - Loss: 2.189103, Accuracy: 69.93\n",
      "74 epoch end lr:  0.0001\n",
      "Epoch: 76/100\n",
      "Train - Loss: 0.014225, Accuracy: 99.58\n",
      "Valid - Loss: 2.336351, Accuracy: 69.27\n",
      "75 epoch end lr:  0.0001\n",
      "Epoch: 77/100\n",
      "Train - Loss: 0.012041, Accuracy: 99.70\n",
      "Valid - Loss: 2.208372, Accuracy: 68.54\n",
      "76 epoch end lr:  0.0001\n",
      "Epoch: 78/100\n",
      "Train - Loss: 0.009159, Accuracy: 99.73\n",
      "Valid - Loss: 2.203128, Accuracy: 70.02\n",
      "77 epoch end lr:  0.0001\n",
      "Epoch: 79/100\n",
      "Train - Loss: 0.010296, Accuracy: 99.70\n",
      "Valid - Loss: 2.462069, Accuracy: 69.98\n",
      "78 epoch end lr:  0.0001\n",
      "Epoch: 80/100\n",
      "Train - Loss: 0.013456, Accuracy: 99.56\n",
      "Valid - Loss: 2.541728, Accuracy: 68.44\n",
      "79 epoch end lr:  0.0001\n",
      "Epoch: 81/100\n",
      "Train - Loss: 0.013585, Accuracy: 99.59\n",
      "Valid - Loss: 2.612651, Accuracy: 67.54\n",
      "80 epoch end lr:  0.0001\n",
      "Epoch: 82/100\n",
      "Train - Loss: 0.014255, Accuracy: 99.48\n",
      "Valid - Loss: 2.375897, Accuracy: 70.49\n",
      "81 epoch end lr:  0.0001\n",
      "Epoch: 83/100\n",
      "Train - Loss: 0.009730, Accuracy: 99.69\n",
      "Valid - Loss: 2.534960, Accuracy: 69.67\n",
      "82 epoch end lr:  0.0001\n",
      "Epoch: 84/100\n",
      "Train - Loss: 0.012981, Accuracy: 99.53\n",
      "Valid - Loss: 2.513631, Accuracy: 69.99\n",
      "83 epoch end lr:  0.0001\n",
      "Epoch: 85/100\n",
      "Train - Loss: 0.025099, Accuracy: 99.41\n",
      "Valid - Loss: 2.670557, Accuracy: 66.68\n",
      "84 epoch end lr:  0.0001\n",
      "Epoch: 86/100\n",
      "Train - Loss: 0.017340, Accuracy: 99.42\n",
      "Valid - Loss: 2.451295, Accuracy: 68.49\n",
      "85 epoch end lr:  0.0001\n",
      "Epoch: 87/100\n",
      "Train - Loss: 0.018586, Accuracy: 99.42\n",
      "Valid - Loss: 2.531932, Accuracy: 68.15\n",
      "86 epoch end lr:  0.0001\n",
      "Epoch: 88/100\n",
      "Train - Loss: 0.019300, Accuracy: 99.37\n",
      "Valid - Loss: 2.484475, Accuracy: 69.06\n",
      "87 epoch end lr:  0.0001\n",
      "Epoch: 89/100\n",
      "Train - Loss: 0.013156, Accuracy: 99.45\n",
      "Valid - Loss: 2.546486, Accuracy: 69.33\n",
      "88 epoch end lr:  0.0001\n",
      "Epoch: 90/100\n",
      "Train - Loss: 0.010952, Accuracy: 99.56\n",
      "Valid - Loss: 2.779362, Accuracy: 70.03\n",
      "89 epoch end lr:  0.0001\n",
      "Epoch: 91/100\n",
      "Train - Loss: 0.019836, Accuracy: 99.43\n",
      "Valid - Loss: 2.810088, Accuracy: 67.66\n",
      "90 epoch end lr:  0.0001\n",
      "Epoch: 92/100\n",
      "Train - Loss: 0.018871, Accuracy: 99.41\n",
      "Valid - Loss: 2.555830, Accuracy: 68.44\n",
      "91 epoch end lr:  0.0001\n",
      "Epoch: 93/100\n",
      "Train - Loss: 0.013335, Accuracy: 99.50\n",
      "Valid - Loss: 2.849871, Accuracy: 66.33\n",
      "92 epoch end lr:  0.0001\n",
      "Epoch: 94/100\n",
      "Train - Loss: 0.015579, Accuracy: 99.57\n",
      "Valid - Loss: 2.500215, Accuracy: 69.53\n",
      "93 epoch end lr:  0.0001\n",
      "Epoch: 95/100\n",
      "Train - Loss: 0.016425, Accuracy: 99.56\n",
      "Valid - Loss: 2.332493, Accuracy: 69.70\n",
      "94 epoch end lr:  0.0001\n",
      "Epoch: 96/100\n",
      "Train - Loss: 0.007735, Accuracy: 99.80\n",
      "Valid - Loss: 2.625036, Accuracy: 69.25\n",
      "95 epoch end lr:  0.0001\n",
      "Epoch: 97/100\n",
      "Train - Loss: 0.013301, Accuracy: 99.59\n",
      "Valid - Loss: 2.761195, Accuracy: 68.82\n",
      "96 epoch end lr:  0.0001\n",
      "Epoch: 98/100\n",
      "Train - Loss: 0.010601, Accuracy: 99.61\n",
      "Valid - Loss: 2.858874, Accuracy: 67.83\n",
      "97 epoch end lr:  0.0001\n",
      "Epoch: 99/100\n",
      "Train - Loss: 0.012715, Accuracy: 99.59\n",
      "Valid - Loss: 2.671417, Accuracy: 70.05\n",
      "98 epoch end lr:  0.0001\n",
      "Epoch: 100/100\n",
      "Train - Loss: 0.009439, Accuracy: 99.69\n",
      "Valid - Loss: 2.732263, Accuracy: 68.33\n",
      "99 epoch end lr:  0.0001\n"
     ]
    }
   ],
   "source": [
    "history = model.fit(parameters)"
   ]
  },
  {
   "attachments": {},
   "cell_type": "markdown",
   "metadata": {},
   "source": [
    "evaluate"
   ]
  },
  {
   "cell_type": "code",
   "execution_count": null,
   "metadata": {},
   "outputs": [],
   "source": [
    "with open(f\"{model_path}last_history.pkl\", \"rb\") as pkl_file:\n",
    "    history = pkl.load(pkl_file)"
   ]
  },
  {
   "cell_type": "code",
   "execution_count": 13,
   "metadata": {},
   "outputs": [
    {
     "data": {
      "image/png": "[encoded data removed]",
      "text/plain": [
       "<Figure size 1000x400 with 2 Axes>"
      ]
     },
     "metadata": {},
     "output_type": "display_data"
    }
   ],
   "source": [
    "from math import ceil\n",
    "\n",
    "train_loss = history[\"train_loss\"]\n",
    "train_acc = history[\"train_acc\"]\n",
    "valid_loss = history[\"valid_loss\"]\n",
    "valid_acc = history[\"valid_acc\"]\n",
    "epoch = len(history[\"train_loss\"])\n",
    "\n",
    "fig, ax = plt.subplots(1, 2, figsize=(10, 4))\n",
    "ax[0].plot(train_loss, 'b', label=\"training\")\n",
    "ax[0].plot(valid_loss, '--r', label=\"validation\")\n",
    "ax[0].set_xlim((0, epoch))\n",
    "max_y = ceil(max(valid_loss)) if max(train_loss) < max(valid_loss) else ceil(max(train_loss))\n",
    "ax[0].set_ylim((0, max_y))\n",
    "ax[0].legend()\n",
    "ax[0].grid()\n",
    "\n",
    "ax[1].plot(train_acc, 'b', label=\"training\")\n",
    "ax[1].plot(valid_acc, '--r', label=\"validation\")\n",
    "ax[1].set_xlim((0, epoch))\n",
    "ax[1].set_ylim((0, 100))\n",
    "ax[1].legend()\n",
    "ax[1].grid()\n",
    "plt.show()"
   ]
  },
  {
   "cell_type": "code",
   "execution_count": null,
   "metadata": {},
   "outputs": [
    {
     "data": {
      "text/plain": [
       "<All keys matched successfully>"
      ]
     },
     "execution_count": 12,
     "metadata": {},
     "output_type": "execute_result"
    }
   ],
   "source": [
    "model.load_state_dict(torch.load(f\"{model_path}high_acc.pth\"))"
   ]
  },
  {
   "cell_type": "code",
   "execution_count": 16,
   "metadata": {},
   "outputs": [],
   "source": [
    "# train_x, train_y, order = shuffle_data(train_x, train_y, 42)\n",
    "# valid_x, valid_y, order = shuffle_data(valid_x, valid_y, 42)\n",
    "split_valid_x, split_valid_y, order = shuffle_data(valid_x, valid_y, 42)"
   ]
  },
  {
   "cell_type": "code",
   "execution_count": 17,
   "metadata": {},
   "outputs": [
    {
     "data": {
      "application/vnd.jupyter.widget-view+json": {
       "model_id": "c9068c890fcc49aab06f4401e401adef",
       "version_major": 2,
       "version_minor": 0
      },
      "text/plain": [
       "  0%|          | 0/27 [00:00<?, ?it/s]"
      ]
     },
     "metadata": {},
     "output_type": "display_data"
    }
   ],
   "source": [
    "with torch.no_grad():\n",
    "    pred, labels = model.predict(valid_x)"
   ]
  },
  {
   "cell_type": "code",
   "execution_count": 19,
   "metadata": {},
   "outputs": [
    {
     "data": {
      "text/plain": [
       "0.59728373191615"
      ]
     },
     "execution_count": 19,
     "metadata": {},
     "output_type": "execute_result"
    }
   ],
   "source": [
    "accuracy_score(valid_y, labels.cpu())"
   ]
  },
  {
   "cell_type": "code",
   "execution_count": 23,
   "metadata": {},
   "outputs": [
    {
     "name": "stdout",
     "output_type": "stream",
     "text": [
      "AUC per class: [0.8372426743470509, 0.8734238683467715, 0.8465842621517735]\n"
     ]
    },
    {
     "data": {
      "image/png": "[encoded data removed]",
      "text/plain": [
       "<Figure size 640x480 with 1 Axes>"
      ]
     },
     "metadata": {},
     "output_type": "display_data"
    }
   ],
   "source": [
    "from sklearn.metrics import roc_curve, roc_auc_score\n",
    "\n",
    "# 예측값과 레이블 값을 가져옵니다.\n",
    "out_features = 6\n",
    "y_pred = pred.cpu()\n",
    "y_true = valid_y\n",
    "\n",
    "# Softmax 함수를 사용하여 확률값을 계산합니다.\n",
    "y_pred = torch.softmax(y_pred, dim=1)\n",
    "\n",
    "# 각 클래스에 대한 AUC 값을 계산합니다.\n",
    "auc_list = []\n",
    "for i in range(out_features):\n",
    "    auc = roc_auc_score((y_true == i), y_pred[:, i].numpy())\n",
    "    auc_list.append(auc)\n",
    "\n",
    "# AUC 값을 출력합니다.\n",
    "print(\"AUC per class:\", auc_list)\n",
    "\n",
    "# 각 클래스별 FPR과 TPR 값을 구합니다.\n",
    "fpr_list = []\n",
    "tpr_list = []\n",
    "for i in range(out_features):\n",
    "    fpr, tpr, _ = roc_curve((y_true == i), y_pred[:, i].numpy())\n",
    "    fpr_list.append(fpr)\n",
    "    tpr_list.append(tpr)\n",
    "\n",
    "# 모든 클래스에 대한 FPR과 TPR 값을 평균 내어 멀티클래스 AUC 값을 구합니다.\n",
    "mean_fpr = np.unique(np.concatenate(fpr_list))\n",
    "mean_tpr = np.zeros_like(mean_fpr)\n",
    "for i in range(out_features):\n",
    "    mean_tpr += np.interp(mean_fpr, fpr_list[i], tpr_list[i])\n",
    "mean_tpr /= out_features\n",
    "\n",
    "# 멀티클래스 AUC-ROC 커브를 그립니다.\n",
    "plt.plot(mean_fpr, mean_tpr, label='Multi-class ROC curve (AUC = %0.2f)' % np.mean(auc_list))\n",
    "plt.plot([0, 1], [0, 1], 'k--')\n",
    "plt.xlabel('False Positive Rate')\n",
    "plt.ylabel('True Positive Rate')\n",
    "plt.legend(loc='lower right')\n",
    "plt.show()"
   ]
  },
  {
   "cell_type": "code",
   "execution_count": 21,
   "metadata": {},
   "outputs": [
    {
     "name": "stdout",
     "output_type": "stream",
     "text": [
      "              precision    recall  f1-score   support\n",
      "\n",
      "          A1       0.61      0.53      0.57       557\n",
      "          A2       0.60      0.69      0.64       728\n",
      "          A3       0.53      0.71      0.61       774\n",
      "          A4       0.60      0.51      0.55       417\n",
      "          A5       0.56      0.34      0.42       552\n",
      "          A6       0.83      0.77      0.80       359\n",
      "\n",
      "    accuracy                           0.60      3387\n",
      "   macro avg       0.62      0.59      0.60      3387\n",
      "weighted avg       0.60      0.60      0.59      3387\n",
      "\n"
     ]
    }
   ],
   "source": [
    "from sklearn.metrics import classification_report\n",
    "print(classification_report(y_true=valid_y, y_pred=labels.cpu(), target_names=[\"A1\", \"A2\", \"A3\", \"A4\", \"A5\", \"A6\"]))"
   ]
  }
 ],
 "metadata": {
  "kernelspec": {
   "display_name": "capstone",
   "language": "python",
   "name": "python3"
  },
  "language_info": {
   "codemirror_mode": {
    "name": "ipython",
    "version": 3
   },
   "file_extension": ".py",
   "mimetype": "text/x-python",
   "name": "python",
   "nbconvert_exporter": "python",
   "pygments_lexer": "ipython3",
   "version": "3.9.16"
  },
  "orig_nbformat": 4,
  "vscode": {
   "interpreter": {
    "hash": "88b45362d68994ba274345a2aea736a99aead0de6ce9e063611997e445d73fc1"
   }
  }
 },
 "nbformat": 4,
 "nbformat_minor": 2
}
